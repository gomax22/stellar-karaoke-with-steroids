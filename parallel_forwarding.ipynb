{
 "cells": [
  {
   "cell_type": "code",
   "execution_count": 1,
   "metadata": {},
   "outputs": [],
   "source": [
    "\n",
    "import argparse\n",
    "import torch\n",
    "from concurrent.futures import ThreadPoolExecutor\n",
    "import time\n",
    "import sys\n",
    "sys.path.append('./models')\n",
    "from models import models\n",
    "from dataset import HARPSDataset\n",
    "from torch.utils.data import DataLoader\n",
    "import os\n",
    "import numpy as np\n",
    "from astropy.io import fits\n"
   ]
  },
  {
   "cell_type": "code",
   "execution_count": 2,
   "metadata": {},
   "outputs": [
    {
     "data": {
      "text/plain": [
       "ae1d(\n",
       "  (conv1): Sequential(\n",
       "    (0): Conv1d(1, 16, kernel_size=(7,), stride=(2,), padding=(3,))\n",
       "    (1): LeakyReLU(negative_slope=0.1, inplace=True)\n",
       "  )\n",
       "  (conv2): Sequential(\n",
       "    (0): Conv1d(16, 16, kernel_size=(5,), stride=(2,), padding=(2,))\n",
       "    (1): LeakyReLU(negative_slope=0.1, inplace=True)\n",
       "  )\n",
       "  (conv3): Sequential(\n",
       "    (0): Conv1d(16, 16, kernel_size=(5,), stride=(2,), padding=(2,))\n",
       "    (1): LeakyReLU(negative_slope=0.1, inplace=True)\n",
       "  )\n",
       "  (conv4): Sequential(\n",
       "    (0): Conv1d(16, 32, kernel_size=(3,), stride=(2,), padding=(1,))\n",
       "    (1): LeakyReLU(negative_slope=0.1, inplace=True)\n",
       "  )\n",
       "  (conv5): Sequential(\n",
       "    (0): Conv1d(32, 32, kernel_size=(3,), stride=(2,), padding=(1,))\n",
       "    (1): LeakyReLU(negative_slope=0.1, inplace=True)\n",
       "  )\n",
       "  (conv6): Sequential(\n",
       "    (0): Conv1d(32, 32, kernel_size=(3,), stride=(2,), padding=(1,))\n",
       "    (1): LeakyReLU(negative_slope=0.1, inplace=True)\n",
       "  )\n",
       "  (conv7): Sequential(\n",
       "    (0): Conv1d(32, 64, kernel_size=(3,), stride=(2,), padding=(1,))\n",
       "    (1): LeakyReLU(negative_slope=0.1, inplace=True)\n",
       "  )\n",
       "  (conv8): Sequential(\n",
       "    (0): Conv1d(64, 64, kernel_size=(3,), stride=(2,), padding=(1,))\n",
       "    (1): LeakyReLU(negative_slope=0.1, inplace=True)\n",
       "  )\n",
       "  (conv9): Sequential(\n",
       "    (0): Conv1d(64, 64, kernel_size=(3,), stride=(2,), padding=(1,))\n",
       "    (1): LeakyReLU(negative_slope=0.1, inplace=True)\n",
       "  )\n",
       "  (conv10): Sequential(\n",
       "    (0): Conv1d(64, 128, kernel_size=(3,), stride=(2,), padding=(1,))\n",
       "    (1): LeakyReLU(negative_slope=0.1, inplace=True)\n",
       "  )\n",
       "  (conv11): Sequential(\n",
       "    (0): Conv1d(128, 128, kernel_size=(3,), stride=(2,), padding=(1,))\n",
       "    (1): LeakyReLU(negative_slope=0.1, inplace=True)\n",
       "  )\n",
       "  (conv12): Sequential(\n",
       "    (0): Conv1d(128, 128, kernel_size=(3,), stride=(2,), padding=(1,))\n",
       "    (1): LeakyReLU(negative_slope=0.1, inplace=True)\n",
       "  )\n",
       "  (conv13): Sequential(\n",
       "    (0): Conv1d(128, 256, kernel_size=(3,), stride=(2,), padding=(1,))\n",
       "    (1): LeakyReLU(negative_slope=0.1, inplace=True)\n",
       "  )\n",
       "  (conv14): Sequential(\n",
       "    (0): Conv1d(256, 512, kernel_size=(3,), stride=(2,), padding=(1,))\n",
       "    (1): LeakyReLU(negative_slope=0.1, inplace=True)\n",
       "  )\n",
       "  (conv15): Sequential(\n",
       "    (0): Conv1d(512, 512, kernel_size=(3,), stride=(1,), padding=(1,))\n",
       "    (1): LeakyReLU(negative_slope=0.1, inplace=True)\n",
       "  )\n",
       "  (fc11): Linear(in_features=10240, out_features=128, bias=True)\n",
       "  (fc12): Linear(in_features=10240, out_features=128, bias=True)\n",
       "  (fc2): Linear(in_features=128, out_features=10240, bias=True)\n",
       "  (deconv15): Sequential(\n",
       "    (0): ConvTranspose1d(512, 512, kernel_size=(3,), stride=(1,), padding=(1,))\n",
       "    (1): LeakyReLU(negative_slope=0.1, inplace=True)\n",
       "  )\n",
       "  (deconv14): Sequential(\n",
       "    (0): ConvTranspose1d(512, 256, kernel_size=(4,), stride=(2,), padding=(1,))\n",
       "    (1): LeakyReLU(negative_slope=0.1, inplace=True)\n",
       "  )\n",
       "  (deconv13): Sequential(\n",
       "    (0): ConvTranspose1d(256, 128, kernel_size=(4,), stride=(2,), padding=(1,))\n",
       "    (1): LeakyReLU(negative_slope=0.1, inplace=True)\n",
       "  )\n",
       "  (deconv12): Sequential(\n",
       "    (0): ConvTranspose1d(128, 128, kernel_size=(4,), stride=(2,), padding=(1,))\n",
       "    (1): LeakyReLU(negative_slope=0.1, inplace=True)\n",
       "  )\n",
       "  (deconv11): Sequential(\n",
       "    (0): ConvTranspose1d(128, 128, kernel_size=(4,), stride=(2,), padding=(1,))\n",
       "    (1): LeakyReLU(negative_slope=0.1, inplace=True)\n",
       "  )\n",
       "  (deconv10): Sequential(\n",
       "    (0): ConvTranspose1d(128, 64, kernel_size=(4,), stride=(2,), padding=(1,))\n",
       "    (1): LeakyReLU(negative_slope=0.1, inplace=True)\n",
       "  )\n",
       "  (deconv9): Sequential(\n",
       "    (0): ConvTranspose1d(64, 64, kernel_size=(4,), stride=(2,), padding=(1,))\n",
       "    (1): LeakyReLU(negative_slope=0.1, inplace=True)\n",
       "  )\n",
       "  (deconv8): Sequential(\n",
       "    (0): ConvTranspose1d(64, 64, kernel_size=(4,), stride=(2,), padding=(1,))\n",
       "    (1): LeakyReLU(negative_slope=0.1, inplace=True)\n",
       "  )\n",
       "  (deconv7): Sequential(\n",
       "    (0): ConvTranspose1d(64, 32, kernel_size=(4,), stride=(2,), padding=(1,))\n",
       "    (1): LeakyReLU(negative_slope=0.1, inplace=True)\n",
       "  )\n",
       "  (deconv6): Sequential(\n",
       "    (0): ConvTranspose1d(32, 32, kernel_size=(4,), stride=(2,), padding=(1,))\n",
       "    (1): LeakyReLU(negative_slope=0.1, inplace=True)\n",
       "  )\n",
       "  (deconv5): Sequential(\n",
       "    (0): ConvTranspose1d(32, 32, kernel_size=(4,), stride=(2,), padding=(1,))\n",
       "    (1): LeakyReLU(negative_slope=0.1, inplace=True)\n",
       "  )\n",
       "  (deconv4): Sequential(\n",
       "    (0): ConvTranspose1d(32, 16, kernel_size=(4,), stride=(2,), padding=(1,))\n",
       "    (1): LeakyReLU(negative_slope=0.1, inplace=True)\n",
       "  )\n",
       "  (deconv3): Sequential(\n",
       "    (0): ConvTranspose1d(16, 16, kernel_size=(4,), stride=(2,), padding=(1,))\n",
       "    (1): LeakyReLU(negative_slope=0.1, inplace=True)\n",
       "  )\n",
       "  (deconv2): Sequential(\n",
       "    (0): ConvTranspose1d(16, 16, kernel_size=(4,), stride=(2,), padding=(1,))\n",
       "    (1): LeakyReLU(negative_slope=0.1, inplace=True)\n",
       "  )\n",
       "  (deconv1): Sequential(\n",
       "    (0): ConvTranspose1d(16, 1, kernel_size=(4,), stride=(2,), padding=(1,))\n",
       "    (1): LeakyReLU(negative_slope=0.1, inplace=True)\n",
       "  )\n",
       "  (predict0): Conv1d(1, 1, kernel_size=(3,), stride=(1,), padding=(1,))\n",
       ")"
      ]
     },
     "execution_count": 2,
     "metadata": {},
     "output_type": "execute_result"
    }
   ],
   "source": [
    "\n",
    "device = torch.device('cpu')\n",
    "model = models.ae1d().to(device)\n",
    "loss_fn = torch.nn.L1Loss(reduction='mean')\n",
    "fnames = [fname for fname in os.listdir('removed2/') if fname.endswith('.fits')]\n",
    "model.eval()"
   ]
  },
  {
   "cell_type": "code",
   "execution_count": 19,
   "metadata": {},
   "outputs": [
    {
     "name": "stdout",
     "output_type": "stream",
     "text": [
      "reached 0 files.\n",
      "reached 500 files.\n",
      "reached 1000 files.\n",
      "reached 1500 files.\n",
      "reached 2000 files.\n",
      "reached 2500 files.\n",
      "reached 3000 files.\n",
      "reached 3500 files.\n",
      "reached 4000 files.\n",
      "reached 4500 files.\n",
      "reached 5000 files.\n",
      "reached 5500 files.\n",
      "reached 6000 files.\n",
      "reached 6500 files.\n",
      "reached 7000 files.\n",
      "reached 7500 files.\n",
      "reached 8000 files.\n",
      "reached 8500 files.\n",
      "reached 9000 files.\n",
      "reached 9500 files.\n",
      "reached 10000 files.\n",
      "reached 10500 files.\n",
      "reached 11000 files.\n",
      "reached 11500 files.\n",
      "reached 12000 files.\n",
      "reached 12500 files.\n",
      "reached 13000 files.\n",
      "reached 13500 files.\n",
      "reached 14000 files.\n",
      "reached 14500 files.\n",
      "reached 15000 files.\n",
      "reached 15500 files.\n",
      "reached 16000 files.\n",
      "reached 16500 files.\n",
      "reached 17000 files.\n",
      "reached 17500 files.\n",
      "reached 18000 files.\n",
      "reached 18500 files.\n",
      "reached 19000 files.\n",
      "reached 19500 files.\n"
     ]
    }
   ],
   "source": [
    "nan_output = []\n",
    "nan_input = []\n",
    "for i, fname in enumerate(fnames):\n",
    "    if i % 500 == 0:\n",
    "        print(f\"reached {i} files.\")\n",
    "    flux = torch.from_numpy(fits.getdata(os.path.join('removed/', fname), ext=0).astype(np.float32))\n",
    "\n",
    "\n",
    "    if not torch.isfinite(flux).all():\n",
    "        nan_input.append(fname)\n",
    "        \n",
    "    flux = flux.unsqueeze(0).to(device)\n",
    "    with torch.inference_mode():\n",
    "        output = model(flux)\n",
    "        \n",
    "        if not torch.isfinite(output).all():\n",
    "            nan_output.append(fname)\n"
   ]
  },
  {
   "cell_type": "code",
   "execution_count": 20,
   "metadata": {},
   "outputs": [
    {
     "data": {
      "text/plain": [
       "(115, 115)"
      ]
     },
     "execution_count": 20,
     "metadata": {},
     "output_type": "execute_result"
    }
   ],
   "source": [
    "len(nan_input), len(nan_output)"
   ]
  },
  {
   "cell_type": "code",
   "execution_count": 21,
   "metadata": {},
   "outputs": [
    {
     "data": {
      "text/plain": [
       "True"
      ]
     },
     "execution_count": 21,
     "metadata": {},
     "output_type": "execute_result"
    }
   ],
   "source": [
    "nan_input == nan_output"
   ]
  },
  {
   "cell_type": "code",
   "execution_count": 9,
   "metadata": {},
   "outputs": [
    {
     "data": {
      "text/plain": [
       "('ADP.2014-10-01T10:20:24.770.fits', 'ADP.2014-10-01T10:20:24.770.fits')"
      ]
     },
     "execution_count": 9,
     "metadata": {},
     "output_type": "execute_result"
    }
   ],
   "source": [
    "nan_output[0], nan_input[0]"
   ]
  },
  {
   "cell_type": "code",
   "execution_count": 10,
   "metadata": {},
   "outputs": [
    {
     "name": "stdout",
     "output_type": "stream",
     "text": [
      "tensor(True)\n",
      "tensor(True)\n"
     ]
    }
   ],
   "source": [
    "flux = torch.from_numpy(fits.getdata('removed/ADP.2014-10-01T10:20:24.770.fits').astype(np.float32))\n",
    "\n",
    "flux = flux.unsqueeze(0).to(device)\n",
    "with torch.inference_mode():\n",
    "    output = model(flux)\n",
    "    loss = loss_fn(output, flux)\n",
    "\n",
    "    print(output.isnan().any())\n",
    "    print(loss.isnan())"
   ]
  },
  {
   "cell_type": "code",
   "execution_count": 12,
   "metadata": {},
   "outputs": [
    {
     "data": {
      "text/plain": [
       "Sequential(\n",
       "  (0): Conv1d(1, 16, kernel_size=(7,), stride=(2,), padding=(3,))\n",
       "  (1): LeakyReLU(negative_slope=0.1, inplace=True)\n",
       ")"
      ]
     },
     "execution_count": 12,
     "metadata": {},
     "output_type": "execute_result"
    }
   ],
   "source": [
    "list(model.children())[0]"
   ]
  },
  {
   "cell_type": "code",
   "execution_count": 21,
   "metadata": {},
   "outputs": [
    {
     "name": "stdout",
     "output_type": "stream",
     "text": [
      "0 Sequential(\n",
      "  (0): Conv1d(1, 16, kernel_size=(7,), stride=(2,), padding=(3,))\n",
      "  (1): LeakyReLU(negative_slope=0.1, inplace=True)\n",
      ")\n",
      "0 Sequential(\n",
      "  (0): Conv1d(1, 16, kernel_size=(7,), stride=(2,), padding=(3,))\n",
      "  (1): LeakyReLU(negative_slope=0.1, inplace=True)\n",
      ")\n",
      "0 Sequential(\n",
      "  (0): Conv1d(1, 16, kernel_size=(7,), stride=(2,), padding=(3,))\n",
      "  (1): LeakyReLU(negative_slope=0.1, inplace=True)\n",
      ")\n",
      "0 Sequential(\n",
      "  (0): Conv1d(1, 16, kernel_size=(7,), stride=(2,), padding=(3,))\n",
      "  (1): LeakyReLU(negative_slope=0.1, inplace=True)\n",
      ")\n",
      "0 Sequential(\n",
      "  (0): Conv1d(1, 16, kernel_size=(7,), stride=(2,), padding=(3,))\n",
      "  (1): LeakyReLU(negative_slope=0.1, inplace=True)\n",
      ")\n",
      "0 Sequential(\n",
      "  (0): Conv1d(1, 16, kernel_size=(7,), stride=(2,), padding=(3,))\n",
      "  (1): LeakyReLU(negative_slope=0.1, inplace=True)\n",
      ")\n",
      "0 Sequential(\n",
      "  (0): Conv1d(1, 16, kernel_size=(7,), stride=(2,), padding=(3,))\n",
      "  (1): LeakyReLU(negative_slope=0.1, inplace=True)\n",
      ")\n",
      "0 Sequential(\n",
      "  (0): Conv1d(1, 16, kernel_size=(7,), stride=(2,), padding=(3,))\n",
      "  (1): LeakyReLU(negative_slope=0.1, inplace=True)\n",
      ")\n",
      "0 Sequential(\n",
      "  (0): Conv1d(1, 16, kernel_size=(7,), stride=(2,), padding=(3,))\n",
      "  (1): LeakyReLU(negative_slope=0.1, inplace=True)\n",
      ")\n",
      "0 Sequential(\n",
      "  (0): Conv1d(1, 16, kernel_size=(7,), stride=(2,), padding=(3,))\n",
      "  (1): LeakyReLU(negative_slope=0.1, inplace=True)\n",
      ")\n",
      "0 Sequential(\n",
      "  (0): Conv1d(1, 16, kernel_size=(7,), stride=(2,), padding=(3,))\n",
      "  (1): LeakyReLU(negative_slope=0.1, inplace=True)\n",
      ")\n",
      "0 Sequential(\n",
      "  (0): Conv1d(1, 16, kernel_size=(7,), stride=(2,), padding=(3,))\n",
      "  (1): LeakyReLU(negative_slope=0.1, inplace=True)\n",
      ")\n",
      "0 Sequential(\n",
      "  (0): Conv1d(1, 16, kernel_size=(7,), stride=(2,), padding=(3,))\n",
      "  (1): LeakyReLU(negative_slope=0.1, inplace=True)\n",
      ")\n",
      "0 Sequential(\n",
      "  (0): Conv1d(1, 16, kernel_size=(7,), stride=(2,), padding=(3,))\n",
      "  (1): LeakyReLU(negative_slope=0.1, inplace=True)\n",
      ")\n",
      "0 Sequential(\n",
      "  (0): Conv1d(1, 16, kernel_size=(7,), stride=(2,), padding=(3,))\n",
      "  (1): LeakyReLU(negative_slope=0.1, inplace=True)\n",
      ")\n",
      "0 Sequential(\n",
      "  (0): Conv1d(1, 16, kernel_size=(7,), stride=(2,), padding=(3,))\n",
      "  (1): LeakyReLU(negative_slope=0.1, inplace=True)\n",
      ")\n",
      "0 Sequential(\n",
      "  (0): Conv1d(1, 16, kernel_size=(7,), stride=(2,), padding=(3,))\n",
      "  (1): LeakyReLU(negative_slope=0.1, inplace=True)\n",
      ")\n",
      "0 Sequential(\n",
      "  (0): Conv1d(1, 16, kernel_size=(7,), stride=(2,), padding=(3,))\n",
      "  (1): LeakyReLU(negative_slope=0.1, inplace=True)\n",
      ")\n",
      "0 Sequential(\n",
      "  (0): Conv1d(1, 16, kernel_size=(7,), stride=(2,), padding=(3,))\n",
      "  (1): LeakyReLU(negative_slope=0.1, inplace=True)\n",
      ")\n",
      "0 Sequential(\n",
      "  (0): Conv1d(1, 16, kernel_size=(7,), stride=(2,), padding=(3,))\n",
      "  (1): LeakyReLU(negative_slope=0.1, inplace=True)\n",
      ")\n",
      "0 Sequential(\n",
      "  (0): Conv1d(1, 16, kernel_size=(7,), stride=(2,), padding=(3,))\n",
      "  (1): LeakyReLU(negative_slope=0.1, inplace=True)\n",
      ")\n",
      "0 Sequential(\n",
      "  (0): Conv1d(1, 16, kernel_size=(7,), stride=(2,), padding=(3,))\n",
      "  (1): LeakyReLU(negative_slope=0.1, inplace=True)\n",
      ")\n",
      "0 Sequential(\n",
      "  (0): Conv1d(1, 16, kernel_size=(7,), stride=(2,), padding=(3,))\n",
      "  (1): LeakyReLU(negative_slope=0.1, inplace=True)\n",
      ")\n",
      "0 Sequential(\n",
      "  (0): Conv1d(1, 16, kernel_size=(7,), stride=(2,), padding=(3,))\n",
      "  (1): LeakyReLU(negative_slope=0.1, inplace=True)\n",
      ")\n",
      "0 Sequential(\n",
      "  (0): Conv1d(1, 16, kernel_size=(7,), stride=(2,), padding=(3,))\n",
      "  (1): LeakyReLU(negative_slope=0.1, inplace=True)\n",
      ")\n",
      "0 Sequential(\n",
      "  (0): Conv1d(1, 16, kernel_size=(7,), stride=(2,), padding=(3,))\n",
      "  (1): LeakyReLU(negative_slope=0.1, inplace=True)\n",
      ")\n",
      "0 Sequential(\n",
      "  (0): Conv1d(1, 16, kernel_size=(7,), stride=(2,), padding=(3,))\n",
      "  (1): LeakyReLU(negative_slope=0.1, inplace=True)\n",
      ")\n",
      "0 Sequential(\n",
      "  (0): Conv1d(1, 16, kernel_size=(7,), stride=(2,), padding=(3,))\n",
      "  (1): LeakyReLU(negative_slope=0.1, inplace=True)\n",
      ")\n",
      "0 Sequential(\n",
      "  (0): Conv1d(1, 16, kernel_size=(7,), stride=(2,), padding=(3,))\n",
      "  (1): LeakyReLU(negative_slope=0.1, inplace=True)\n",
      ")\n",
      "0 Sequential(\n",
      "  (0): Conv1d(1, 16, kernel_size=(7,), stride=(2,), padding=(3,))\n",
      "  (1): LeakyReLU(negative_slope=0.1, inplace=True)\n",
      ")\n",
      "0 Sequential(\n",
      "  (0): Conv1d(1, 16, kernel_size=(7,), stride=(2,), padding=(3,))\n",
      "  (1): LeakyReLU(negative_slope=0.1, inplace=True)\n",
      ")\n",
      "0 Sequential(\n",
      "  (0): Conv1d(1, 16, kernel_size=(7,), stride=(2,), padding=(3,))\n",
      "  (1): LeakyReLU(negative_slope=0.1, inplace=True)\n",
      ")\n",
      "0 Sequential(\n",
      "  (0): Conv1d(1, 16, kernel_size=(7,), stride=(2,), padding=(3,))\n",
      "  (1): LeakyReLU(negative_slope=0.1, inplace=True)\n",
      ")\n",
      "0 Sequential(\n",
      "  (0): Conv1d(1, 16, kernel_size=(7,), stride=(2,), padding=(3,))\n",
      "  (1): LeakyReLU(negative_slope=0.1, inplace=True)\n",
      ")\n",
      "0 Sequential(\n",
      "  (0): Conv1d(1, 16, kernel_size=(7,), stride=(2,), padding=(3,))\n",
      "  (1): LeakyReLU(negative_slope=0.1, inplace=True)\n",
      ")\n",
      "0 Sequential(\n",
      "  (0): Conv1d(1, 16, kernel_size=(7,), stride=(2,), padding=(3,))\n",
      "  (1): LeakyReLU(negative_slope=0.1, inplace=True)\n",
      ")\n",
      "0 Sequential(\n",
      "  (0): Conv1d(1, 16, kernel_size=(7,), stride=(2,), padding=(3,))\n",
      "  (1): LeakyReLU(negative_slope=0.1, inplace=True)\n",
      ")\n",
      "0 Sequential(\n",
      "  (0): Conv1d(1, 16, kernel_size=(7,), stride=(2,), padding=(3,))\n",
      "  (1): LeakyReLU(negative_slope=0.1, inplace=True)\n",
      ")\n",
      "0 Sequential(\n",
      "  (0): Conv1d(1, 16, kernel_size=(7,), stride=(2,), padding=(3,))\n",
      "  (1): LeakyReLU(negative_slope=0.1, inplace=True)\n",
      ")\n",
      "0 Sequential(\n",
      "  (0): Conv1d(1, 16, kernel_size=(7,), stride=(2,), padding=(3,))\n",
      "  (1): LeakyReLU(negative_slope=0.1, inplace=True)\n",
      ")\n",
      "0 Sequential(\n",
      "  (0): Conv1d(1, 16, kernel_size=(7,), stride=(2,), padding=(3,))\n",
      "  (1): LeakyReLU(negative_slope=0.1, inplace=True)\n",
      ")\n",
      "0 Sequential(\n",
      "  (0): Conv1d(1, 16, kernel_size=(7,), stride=(2,), padding=(3,))\n",
      "  (1): LeakyReLU(negative_slope=0.1, inplace=True)\n",
      ")\n",
      "0 Sequential(\n",
      "  (0): Conv1d(1, 16, kernel_size=(7,), stride=(2,), padding=(3,))\n",
      "  (1): LeakyReLU(negative_slope=0.1, inplace=True)\n",
      ")\n",
      "0 Sequential(\n",
      "  (0): Conv1d(1, 16, kernel_size=(7,), stride=(2,), padding=(3,))\n",
      "  (1): LeakyReLU(negative_slope=0.1, inplace=True)\n",
      ")\n",
      "0 Sequential(\n",
      "  (0): Conv1d(1, 16, kernel_size=(7,), stride=(2,), padding=(3,))\n",
      "  (1): LeakyReLU(negative_slope=0.1, inplace=True)\n",
      ")\n",
      "0 Sequential(\n",
      "  (0): Conv1d(1, 16, kernel_size=(7,), stride=(2,), padding=(3,))\n",
      "  (1): LeakyReLU(negative_slope=0.1, inplace=True)\n",
      ")\n",
      "0 Sequential(\n",
      "  (0): Conv1d(1, 16, kernel_size=(7,), stride=(2,), padding=(3,))\n",
      "  (1): LeakyReLU(negative_slope=0.1, inplace=True)\n",
      ")\n",
      "0 Sequential(\n",
      "  (0): Conv1d(1, 16, kernel_size=(7,), stride=(2,), padding=(3,))\n",
      "  (1): LeakyReLU(negative_slope=0.1, inplace=True)\n",
      ")\n",
      "0 Sequential(\n",
      "  (0): Conv1d(1, 16, kernel_size=(7,), stride=(2,), padding=(3,))\n",
      "  (1): LeakyReLU(negative_slope=0.1, inplace=True)\n",
      ")\n",
      "0 Sequential(\n",
      "  (0): Conv1d(1, 16, kernel_size=(7,), stride=(2,), padding=(3,))\n",
      "  (1): LeakyReLU(negative_slope=0.1, inplace=True)\n",
      ")\n",
      "0 Sequential(\n",
      "  (0): Conv1d(1, 16, kernel_size=(7,), stride=(2,), padding=(3,))\n",
      "  (1): LeakyReLU(negative_slope=0.1, inplace=True)\n",
      ")\n",
      "0 Sequential(\n",
      "  (0): Conv1d(1, 16, kernel_size=(7,), stride=(2,), padding=(3,))\n",
      "  (1): LeakyReLU(negative_slope=0.1, inplace=True)\n",
      ")\n",
      "0 Sequential(\n",
      "  (0): Conv1d(1, 16, kernel_size=(7,), stride=(2,), padding=(3,))\n",
      "  (1): LeakyReLU(negative_slope=0.1, inplace=True)\n",
      ")\n",
      "0 Sequential(\n",
      "  (0): Conv1d(1, 16, kernel_size=(7,), stride=(2,), padding=(3,))\n",
      "  (1): LeakyReLU(negative_slope=0.1, inplace=True)\n",
      ")\n",
      "0 Sequential(\n",
      "  (0): Conv1d(1, 16, kernel_size=(7,), stride=(2,), padding=(3,))\n",
      "  (1): LeakyReLU(negative_slope=0.1, inplace=True)\n",
      ")\n",
      "0 Sequential(\n",
      "  (0): Conv1d(1, 16, kernel_size=(7,), stride=(2,), padding=(3,))\n",
      "  (1): LeakyReLU(negative_slope=0.1, inplace=True)\n",
      ")\n",
      "0 Sequential(\n",
      "  (0): Conv1d(1, 16, kernel_size=(7,), stride=(2,), padding=(3,))\n",
      "  (1): LeakyReLU(negative_slope=0.1, inplace=True)\n",
      ")\n",
      "0 Sequential(\n",
      "  (0): Conv1d(1, 16, kernel_size=(7,), stride=(2,), padding=(3,))\n",
      "  (1): LeakyReLU(negative_slope=0.1, inplace=True)\n",
      ")\n",
      "0 Sequential(\n",
      "  (0): Conv1d(1, 16, kernel_size=(7,), stride=(2,), padding=(3,))\n",
      "  (1): LeakyReLU(negative_slope=0.1, inplace=True)\n",
      ")\n",
      "0 Sequential(\n",
      "  (0): Conv1d(1, 16, kernel_size=(7,), stride=(2,), padding=(3,))\n",
      "  (1): LeakyReLU(negative_slope=0.1, inplace=True)\n",
      ")\n",
      "0 Sequential(\n",
      "  (0): Conv1d(1, 16, kernel_size=(7,), stride=(2,), padding=(3,))\n",
      "  (1): LeakyReLU(negative_slope=0.1, inplace=True)\n",
      ")\n",
      "0 Sequential(\n",
      "  (0): Conv1d(1, 16, kernel_size=(7,), stride=(2,), padding=(3,))\n",
      "  (1): LeakyReLU(negative_slope=0.1, inplace=True)\n",
      ")\n",
      "0 Sequential(\n",
      "  (0): Conv1d(1, 16, kernel_size=(7,), stride=(2,), padding=(3,))\n",
      "  (1): LeakyReLU(negative_slope=0.1, inplace=True)\n",
      ")\n",
      "0 Sequential(\n",
      "  (0): Conv1d(1, 16, kernel_size=(7,), stride=(2,), padding=(3,))\n",
      "  (1): LeakyReLU(negative_slope=0.1, inplace=True)\n",
      ")\n",
      "0 Sequential(\n",
      "  (0): Conv1d(1, 16, kernel_size=(7,), stride=(2,), padding=(3,))\n",
      "  (1): LeakyReLU(negative_slope=0.1, inplace=True)\n",
      ")\n",
      "0 Sequential(\n",
      "  (0): Conv1d(1, 16, kernel_size=(7,), stride=(2,), padding=(3,))\n",
      "  (1): LeakyReLU(negative_slope=0.1, inplace=True)\n",
      ")\n",
      "0 Sequential(\n",
      "  (0): Conv1d(1, 16, kernel_size=(7,), stride=(2,), padding=(3,))\n",
      "  (1): LeakyReLU(negative_slope=0.1, inplace=True)\n",
      ")\n",
      "0 Sequential(\n",
      "  (0): Conv1d(1, 16, kernel_size=(7,), stride=(2,), padding=(3,))\n",
      "  (1): LeakyReLU(negative_slope=0.1, inplace=True)\n",
      ")\n",
      "0 Sequential(\n",
      "  (0): Conv1d(1, 16, kernel_size=(7,), stride=(2,), padding=(3,))\n",
      "  (1): LeakyReLU(negative_slope=0.1, inplace=True)\n",
      ")\n",
      "0 Sequential(\n",
      "  (0): Conv1d(1, 16, kernel_size=(7,), stride=(2,), padding=(3,))\n",
      "  (1): LeakyReLU(negative_slope=0.1, inplace=True)\n",
      ")\n",
      "0 Sequential(\n",
      "  (0): Conv1d(1, 16, kernel_size=(7,), stride=(2,), padding=(3,))\n",
      "  (1): LeakyReLU(negative_slope=0.1, inplace=True)\n",
      ")\n",
      "0 Sequential(\n",
      "  (0): Conv1d(1, 16, kernel_size=(7,), stride=(2,), padding=(3,))\n",
      "  (1): LeakyReLU(negative_slope=0.1, inplace=True)\n",
      ")\n",
      "0 Sequential(\n",
      "  (0): Conv1d(1, 16, kernel_size=(7,), stride=(2,), padding=(3,))\n",
      "  (1): LeakyReLU(negative_slope=0.1, inplace=True)\n",
      ")\n",
      "0 Sequential(\n",
      "  (0): Conv1d(1, 16, kernel_size=(7,), stride=(2,), padding=(3,))\n",
      "  (1): LeakyReLU(negative_slope=0.1, inplace=True)\n",
      ")\n",
      "0 Sequential(\n",
      "  (0): Conv1d(1, 16, kernel_size=(7,), stride=(2,), padding=(3,))\n",
      "  (1): LeakyReLU(negative_slope=0.1, inplace=True)\n",
      ")\n",
      "0 Sequential(\n",
      "  (0): Conv1d(1, 16, kernel_size=(7,), stride=(2,), padding=(3,))\n",
      "  (1): LeakyReLU(negative_slope=0.1, inplace=True)\n",
      ")\n",
      "0 Sequential(\n",
      "  (0): Conv1d(1, 16, kernel_size=(7,), stride=(2,), padding=(3,))\n",
      "  (1): LeakyReLU(negative_slope=0.1, inplace=True)\n",
      ")\n",
      "0 Sequential(\n",
      "  (0): Conv1d(1, 16, kernel_size=(7,), stride=(2,), padding=(3,))\n",
      "  (1): LeakyReLU(negative_slope=0.1, inplace=True)\n",
      ")\n",
      "0 Sequential(\n",
      "  (0): Conv1d(1, 16, kernel_size=(7,), stride=(2,), padding=(3,))\n",
      "  (1): LeakyReLU(negative_slope=0.1, inplace=True)\n",
      ")\n",
      "0 Sequential(\n",
      "  (0): Conv1d(1, 16, kernel_size=(7,), stride=(2,), padding=(3,))\n",
      "  (1): LeakyReLU(negative_slope=0.1, inplace=True)\n",
      ")\n",
      "0 Sequential(\n",
      "  (0): Conv1d(1, 16, kernel_size=(7,), stride=(2,), padding=(3,))\n",
      "  (1): LeakyReLU(negative_slope=0.1, inplace=True)\n",
      ")\n",
      "0 Sequential(\n",
      "  (0): Conv1d(1, 16, kernel_size=(7,), stride=(2,), padding=(3,))\n",
      "  (1): LeakyReLU(negative_slope=0.1, inplace=True)\n",
      ")\n",
      "0 Sequential(\n",
      "  (0): Conv1d(1, 16, kernel_size=(7,), stride=(2,), padding=(3,))\n",
      "  (1): LeakyReLU(negative_slope=0.1, inplace=True)\n",
      ")\n",
      "0 Sequential(\n",
      "  (0): Conv1d(1, 16, kernel_size=(7,), stride=(2,), padding=(3,))\n",
      "  (1): LeakyReLU(negative_slope=0.1, inplace=True)\n",
      ")\n",
      "0 Sequential(\n",
      "  (0): Conv1d(1, 16, kernel_size=(7,), stride=(2,), padding=(3,))\n",
      "  (1): LeakyReLU(negative_slope=0.1, inplace=True)\n",
      ")\n",
      "0 Sequential(\n",
      "  (0): Conv1d(1, 16, kernel_size=(7,), stride=(2,), padding=(3,))\n",
      "  (1): LeakyReLU(negative_slope=0.1, inplace=True)\n",
      ")\n",
      "0 Sequential(\n",
      "  (0): Conv1d(1, 16, kernel_size=(7,), stride=(2,), padding=(3,))\n",
      "  (1): LeakyReLU(negative_slope=0.1, inplace=True)\n",
      ")\n",
      "0 Sequential(\n",
      "  (0): Conv1d(1, 16, kernel_size=(7,), stride=(2,), padding=(3,))\n",
      "  (1): LeakyReLU(negative_slope=0.1, inplace=True)\n",
      ")\n",
      "0 Sequential(\n",
      "  (0): Conv1d(1, 16, kernel_size=(7,), stride=(2,), padding=(3,))\n",
      "  (1): LeakyReLU(negative_slope=0.1, inplace=True)\n",
      ")\n",
      "0 Sequential(\n",
      "  (0): Conv1d(1, 16, kernel_size=(7,), stride=(2,), padding=(3,))\n",
      "  (1): LeakyReLU(negative_slope=0.1, inplace=True)\n",
      ")\n",
      "0 Sequential(\n",
      "  (0): Conv1d(1, 16, kernel_size=(7,), stride=(2,), padding=(3,))\n",
      "  (1): LeakyReLU(negative_slope=0.1, inplace=True)\n",
      ")\n",
      "0 Sequential(\n",
      "  (0): Conv1d(1, 16, kernel_size=(7,), stride=(2,), padding=(3,))\n",
      "  (1): LeakyReLU(negative_slope=0.1, inplace=True)\n",
      ")\n",
      "0 Sequential(\n",
      "  (0): Conv1d(1, 16, kernel_size=(7,), stride=(2,), padding=(3,))\n",
      "  (1): LeakyReLU(negative_slope=0.1, inplace=True)\n",
      ")\n",
      "0 Sequential(\n",
      "  (0): Conv1d(1, 16, kernel_size=(7,), stride=(2,), padding=(3,))\n",
      "  (1): LeakyReLU(negative_slope=0.1, inplace=True)\n",
      ")\n",
      "0 Sequential(\n",
      "  (0): Conv1d(1, 16, kernel_size=(7,), stride=(2,), padding=(3,))\n",
      "  (1): LeakyReLU(negative_slope=0.1, inplace=True)\n",
      ")\n",
      "0 Sequential(\n",
      "  (0): Conv1d(1, 16, kernel_size=(7,), stride=(2,), padding=(3,))\n",
      "  (1): LeakyReLU(negative_slope=0.1, inplace=True)\n",
      ")\n",
      "0 Sequential(\n",
      "  (0): Conv1d(1, 16, kernel_size=(7,), stride=(2,), padding=(3,))\n",
      "  (1): LeakyReLU(negative_slope=0.1, inplace=True)\n",
      ")\n",
      "0 Sequential(\n",
      "  (0): Conv1d(1, 16, kernel_size=(7,), stride=(2,), padding=(3,))\n",
      "  (1): LeakyReLU(negative_slope=0.1, inplace=True)\n",
      ")\n",
      "0 Sequential(\n",
      "  (0): Conv1d(1, 16, kernel_size=(7,), stride=(2,), padding=(3,))\n",
      "  (1): LeakyReLU(negative_slope=0.1, inplace=True)\n",
      ")\n",
      "0 Sequential(\n",
      "  (0): Conv1d(1, 16, kernel_size=(7,), stride=(2,), padding=(3,))\n",
      "  (1): LeakyReLU(negative_slope=0.1, inplace=True)\n",
      ")\n",
      "0 Sequential(\n",
      "  (0): Conv1d(1, 16, kernel_size=(7,), stride=(2,), padding=(3,))\n",
      "  (1): LeakyReLU(negative_slope=0.1, inplace=True)\n",
      ")\n",
      "0 Sequential(\n",
      "  (0): Conv1d(1, 16, kernel_size=(7,), stride=(2,), padding=(3,))\n",
      "  (1): LeakyReLU(negative_slope=0.1, inplace=True)\n",
      ")\n",
      "0 Sequential(\n",
      "  (0): Conv1d(1, 16, kernel_size=(7,), stride=(2,), padding=(3,))\n",
      "  (1): LeakyReLU(negative_slope=0.1, inplace=True)\n",
      ")\n",
      "0 Sequential(\n",
      "  (0): Conv1d(1, 16, kernel_size=(7,), stride=(2,), padding=(3,))\n",
      "  (1): LeakyReLU(negative_slope=0.1, inplace=True)\n",
      ")\n",
      "0 Sequential(\n",
      "  (0): Conv1d(1, 16, kernel_size=(7,), stride=(2,), padding=(3,))\n",
      "  (1): LeakyReLU(negative_slope=0.1, inplace=True)\n",
      ")\n",
      "0 Sequential(\n",
      "  (0): Conv1d(1, 16, kernel_size=(7,), stride=(2,), padding=(3,))\n",
      "  (1): LeakyReLU(negative_slope=0.1, inplace=True)\n",
      ")\n",
      "0 Sequential(\n",
      "  (0): Conv1d(1, 16, kernel_size=(7,), stride=(2,), padding=(3,))\n",
      "  (1): LeakyReLU(negative_slope=0.1, inplace=True)\n",
      ")\n",
      "0 Sequential(\n",
      "  (0): Conv1d(1, 16, kernel_size=(7,), stride=(2,), padding=(3,))\n",
      "  (1): LeakyReLU(negative_slope=0.1, inplace=True)\n",
      ")\n",
      "0 Sequential(\n",
      "  (0): Conv1d(1, 16, kernel_size=(7,), stride=(2,), padding=(3,))\n",
      "  (1): LeakyReLU(negative_slope=0.1, inplace=True)\n",
      ")\n",
      "0 Sequential(\n",
      "  (0): Conv1d(1, 16, kernel_size=(7,), stride=(2,), padding=(3,))\n",
      "  (1): LeakyReLU(negative_slope=0.1, inplace=True)\n",
      ")\n",
      "0 Sequential(\n",
      "  (0): Conv1d(1, 16, kernel_size=(7,), stride=(2,), padding=(3,))\n",
      "  (1): LeakyReLU(negative_slope=0.1, inplace=True)\n",
      ")\n",
      "0 Sequential(\n",
      "  (0): Conv1d(1, 16, kernel_size=(7,), stride=(2,), padding=(3,))\n",
      "  (1): LeakyReLU(negative_slope=0.1, inplace=True)\n",
      ")\n",
      "0 Sequential(\n",
      "  (0): Conv1d(1, 16, kernel_size=(7,), stride=(2,), padding=(3,))\n",
      "  (1): LeakyReLU(negative_slope=0.1, inplace=True)\n",
      ")\n",
      "0 Sequential(\n",
      "  (0): Conv1d(1, 16, kernel_size=(7,), stride=(2,), padding=(3,))\n",
      "  (1): LeakyReLU(negative_slope=0.1, inplace=True)\n",
      ")\n"
     ]
    }
   ],
   "source": [
    "layers = {}\n",
    "for spectrum in nan_output:\n",
    "    flux = torch.from_numpy(fits.getdata(f'removed/{spectrum}').astype(np.float32))\n",
    "\n",
    "    for i, layer in enumerate(list(model.children())):\n",
    "        flux = layer(flux)\n",
    "        \n",
    "        if flux.isnan().any():\n",
    "            print(i, layer)\n",
    "            if i not in layers:\n",
    "                layers[i] = 0\n",
    "            layers[i] += 1\n",
    "            break"
   ]
  },
  {
   "cell_type": "code",
   "execution_count": 17,
   "metadata": {},
   "outputs": [],
   "source": [
    "with open('nan_output.txt', 'w') as f:\n",
    "    f.write('\\n'.join(nan_output))"
   ]
  },
  {
   "cell_type": "code",
   "execution_count": 22,
   "metadata": {},
   "outputs": [
    {
     "data": {
      "text/plain": [
       "{0: 114}"
      ]
     },
     "execution_count": 22,
     "metadata": {},
     "output_type": "execute_result"
    }
   ],
   "source": [
    "layers"
   ]
  },
  {
   "cell_type": "code",
   "execution_count": 3,
   "metadata": {},
   "outputs": [
    {
     "data": {
      "text/plain": [
       "<All keys matched successfully>"
      ]
     },
     "execution_count": 3,
     "metadata": {},
     "output_type": "execute_result"
    }
   ],
   "source": [
    "model.load_state_dict(torch.load('models/model_14v3_128d_e116_i954k.pth.tar', map_location=device)['state_dict'],strict=True)"
   ]
  },
  {
   "cell_type": "code",
   "execution_count": 12,
   "metadata": {},
   "outputs": [
    {
     "name": "stdout",
     "output_type": "stream",
     "text": [
      "nan\n",
      "not finite\n",
      "not finite\n"
     ]
    }
   ],
   "source": [
    "flux = torch.from_numpy(fits.getdata('removed/ADP.2014-09-25T15:35:36.897.fits', ext=0).astype(np.float32)).unsqueeze(0)\n",
    "\n",
    "out = model(flux)\n",
    "if out.isnan().any():\n",
    "    print('nan')\n",
    "\n",
    "if not flux.isfinite().all():\n",
    "    print('not finite')\n",
    "\n",
    "if not out.isfinite().all():\n",
    "    print('not finite')\n",
    "\n"
   ]
  },
  {
   "cell_type": "code",
   "execution_count": 9,
   "metadata": {},
   "outputs": [
    {
     "data": {
      "text/plain": [
       "tensor(False)"
      ]
     },
     "execution_count": 9,
     "metadata": {},
     "output_type": "execute_result"
    }
   ],
   "source": [
    "flux.isfinite().all()"
   ]
  },
  {
   "cell_type": "code",
   "execution_count": 6,
   "metadata": {},
   "outputs": [
    {
     "ename": "IsADirectoryError",
     "evalue": "[Errno 21] Is a directory: 'removed/'",
     "output_type": "error",
     "traceback": [
      "\u001b[0;31m---------------------------------------------------------------------------\u001b[0m",
      "\u001b[0;31mIsADirectoryError\u001b[0m                         Traceback (most recent call last)",
      "Cell \u001b[0;32mIn[6], line 7\u001b[0m\n\u001b[1;32m      4\u001b[0m     nan_output \u001b[38;5;241m=\u001b[39m f\u001b[38;5;241m.\u001b[39mread()\u001b[38;5;241m.\u001b[39msplit(\u001b[38;5;124m'\u001b[39m\u001b[38;5;130;01m\\n\u001b[39;00m\u001b[38;5;124m'\u001b[39m)\n\u001b[1;32m      6\u001b[0m \u001b[38;5;28;01mfor\u001b[39;00m spectrum \u001b[38;5;129;01min\u001b[39;00m nan_output:\n\u001b[0;32m----> 7\u001b[0m     flux \u001b[38;5;241m=\u001b[39m torch\u001b[38;5;241m.\u001b[39mfrom_numpy(fits\u001b[38;5;241m.\u001b[39mgetdata(\u001b[38;5;124mf\u001b[39m\u001b[38;5;124m'\u001b[39m\u001b[38;5;124mremoved/\u001b[39m\u001b[38;5;132;01m{\u001b[39;00mspectrum\u001b[38;5;132;01m}\u001b[39;00m\u001b[38;5;124m'\u001b[39m)\u001b[38;5;241m.\u001b[39mastype(np\u001b[38;5;241m.\u001b[39mfloat64))\n\u001b[1;32m      9\u001b[0m     \u001b[38;5;28;01mfor\u001b[39;00m i, layer \u001b[38;5;129;01min\u001b[39;00m \u001b[38;5;28menumerate\u001b[39m(\u001b[38;5;28mlist\u001b[39m(model\u001b[38;5;241m.\u001b[39mchildren())):\n\u001b[1;32m     10\u001b[0m         flux \u001b[38;5;241m=\u001b[39m layer(flux)\n",
      "File \u001b[0;32m~/anaconda3/envs/rte/lib/python3.11/site-packages/astropy/io/fits/convenience.py:220\u001b[0m, in \u001b[0;36mgetdata\u001b[0;34m(filename, header, lower, upper, view, *args, **kwargs)\u001b[0m\n\u001b[1;32m    215\u001b[0m extver \u001b[38;5;241m=\u001b[39m kwargs\u001b[38;5;241m.\u001b[39mget(\u001b[38;5;124m\"\u001b[39m\u001b[38;5;124mextver\u001b[39m\u001b[38;5;124m\"\u001b[39m)\n\u001b[1;32m    216\u001b[0m ext_given \u001b[38;5;241m=\u001b[39m \u001b[38;5;129;01mnot\u001b[39;00m (\n\u001b[1;32m    217\u001b[0m     \u001b[38;5;28mlen\u001b[39m(args) \u001b[38;5;241m==\u001b[39m \u001b[38;5;241m0\u001b[39m \u001b[38;5;129;01mand\u001b[39;00m ext \u001b[38;5;129;01mis\u001b[39;00m \u001b[38;5;28;01mNone\u001b[39;00m \u001b[38;5;129;01mand\u001b[39;00m extname \u001b[38;5;129;01mis\u001b[39;00m \u001b[38;5;28;01mNone\u001b[39;00m \u001b[38;5;129;01mand\u001b[39;00m extver \u001b[38;5;129;01mis\u001b[39;00m \u001b[38;5;28;01mNone\u001b[39;00m\n\u001b[1;32m    218\u001b[0m )\n\u001b[0;32m--> 220\u001b[0m hdulist, extidx \u001b[38;5;241m=\u001b[39m _getext(filename, mode, \u001b[38;5;241m*\u001b[39margs, \u001b[38;5;241m*\u001b[39m\u001b[38;5;241m*\u001b[39mkwargs)\n\u001b[1;32m    221\u001b[0m \u001b[38;5;28;01mtry\u001b[39;00m:\n\u001b[1;32m    222\u001b[0m     hdu \u001b[38;5;241m=\u001b[39m hdulist[extidx]\n",
      "File \u001b[0;32m~/anaconda3/envs/rte/lib/python3.11/site-packages/astropy/io/fits/convenience.py:1114\u001b[0m, in \u001b[0;36m_getext\u001b[0;34m(filename, mode, ext, extname, extver, *args, **kwargs)\u001b[0m\n\u001b[1;32m   1111\u001b[0m \u001b[38;5;28;01melif\u001b[39;00m extver \u001b[38;5;129;01mand\u001b[39;00m extname \u001b[38;5;129;01mis\u001b[39;00m \u001b[38;5;28;01mNone\u001b[39;00m:\n\u001b[1;32m   1112\u001b[0m     \u001b[38;5;28;01mraise\u001b[39;00m \u001b[38;5;167;01mTypeError\u001b[39;00m(\u001b[38;5;124m\"\u001b[39m\u001b[38;5;124mextver alone cannot specify an extension.\u001b[39m\u001b[38;5;124m\"\u001b[39m)\n\u001b[0;32m-> 1114\u001b[0m hdulist \u001b[38;5;241m=\u001b[39m fitsopen(filename, mode\u001b[38;5;241m=\u001b[39mmode, \u001b[38;5;241m*\u001b[39m\u001b[38;5;241m*\u001b[39mkwargs)\n\u001b[1;32m   1116\u001b[0m \u001b[38;5;28;01mreturn\u001b[39;00m hdulist, ext\n",
      "File \u001b[0;32m~/anaconda3/envs/rte/lib/python3.11/site-packages/astropy/io/fits/hdu/hdulist.py:222\u001b[0m, in \u001b[0;36mfitsopen\u001b[0;34m(name, mode, memmap, save_backup, cache, lazy_load_hdus, ignore_missing_simple, use_fsspec, fsspec_kwargs, decompress_in_memory, **kwargs)\u001b[0m\n\u001b[1;32m    219\u001b[0m \u001b[38;5;28;01mif\u001b[39;00m \u001b[38;5;129;01mnot\u001b[39;00m name:\n\u001b[1;32m    220\u001b[0m     \u001b[38;5;28;01mraise\u001b[39;00m \u001b[38;5;167;01mValueError\u001b[39;00m(\u001b[38;5;124mf\u001b[39m\u001b[38;5;124m\"\u001b[39m\u001b[38;5;124mEmpty filename: \u001b[39m\u001b[38;5;132;01m{\u001b[39;00mname\u001b[38;5;132;01m!r}\u001b[39;00m\u001b[38;5;124m\"\u001b[39m)\n\u001b[0;32m--> 222\u001b[0m \u001b[38;5;28;01mreturn\u001b[39;00m HDUList\u001b[38;5;241m.\u001b[39mfromfile(\n\u001b[1;32m    223\u001b[0m     name,\n\u001b[1;32m    224\u001b[0m     mode,\n\u001b[1;32m    225\u001b[0m     memmap,\n\u001b[1;32m    226\u001b[0m     save_backup,\n\u001b[1;32m    227\u001b[0m     cache,\n\u001b[1;32m    228\u001b[0m     lazy_load_hdus,\n\u001b[1;32m    229\u001b[0m     ignore_missing_simple,\n\u001b[1;32m    230\u001b[0m     use_fsspec\u001b[38;5;241m=\u001b[39muse_fsspec,\n\u001b[1;32m    231\u001b[0m     fsspec_kwargs\u001b[38;5;241m=\u001b[39mfsspec_kwargs,\n\u001b[1;32m    232\u001b[0m     decompress_in_memory\u001b[38;5;241m=\u001b[39mdecompress_in_memory,\n\u001b[1;32m    233\u001b[0m     \u001b[38;5;241m*\u001b[39m\u001b[38;5;241m*\u001b[39mkwargs,\n\u001b[1;32m    234\u001b[0m )\n",
      "File \u001b[0;32m~/anaconda3/envs/rte/lib/python3.11/site-packages/astropy/io/fits/hdu/hdulist.py:486\u001b[0m, in \u001b[0;36mHDUList.fromfile\u001b[0;34m(cls, fileobj, mode, memmap, save_backup, cache, lazy_load_hdus, ignore_missing_simple, **kwargs)\u001b[0m\n\u001b[1;32m    467\u001b[0m \u001b[38;5;129m@classmethod\u001b[39m\n\u001b[1;32m    468\u001b[0m \u001b[38;5;28;01mdef\u001b[39;00m \u001b[38;5;21mfromfile\u001b[39m(\n\u001b[1;32m    469\u001b[0m     \u001b[38;5;28mcls\u001b[39m,\n\u001b[0;32m   (...)\u001b[0m\n\u001b[1;32m    477\u001b[0m     \u001b[38;5;241m*\u001b[39m\u001b[38;5;241m*\u001b[39mkwargs,\n\u001b[1;32m    478\u001b[0m ):\n\u001b[1;32m    479\u001b[0m \u001b[38;5;250m    \u001b[39m\u001b[38;5;124;03m\"\"\"\u001b[39;00m\n\u001b[1;32m    480\u001b[0m \u001b[38;5;124;03m    Creates an `HDUList` instance from a file-like object.\u001b[39;00m\n\u001b[1;32m    481\u001b[0m \n\u001b[0;32m   (...)\u001b[0m\n\u001b[1;32m    484\u001b[0m \u001b[38;5;124;03m    documentation for details of the parameters accepted by this method).\u001b[39;00m\n\u001b[1;32m    485\u001b[0m \u001b[38;5;124;03m    \"\"\"\u001b[39;00m\n\u001b[0;32m--> 486\u001b[0m     \u001b[38;5;28;01mreturn\u001b[39;00m \u001b[38;5;28mcls\u001b[39m\u001b[38;5;241m.\u001b[39m_readfrom(\n\u001b[1;32m    487\u001b[0m         fileobj\u001b[38;5;241m=\u001b[39mfileobj,\n\u001b[1;32m    488\u001b[0m         mode\u001b[38;5;241m=\u001b[39mmode,\n\u001b[1;32m    489\u001b[0m         memmap\u001b[38;5;241m=\u001b[39mmemmap,\n\u001b[1;32m    490\u001b[0m         save_backup\u001b[38;5;241m=\u001b[39msave_backup,\n\u001b[1;32m    491\u001b[0m         cache\u001b[38;5;241m=\u001b[39mcache,\n\u001b[1;32m    492\u001b[0m         ignore_missing_simple\u001b[38;5;241m=\u001b[39mignore_missing_simple,\n\u001b[1;32m    493\u001b[0m         lazy_load_hdus\u001b[38;5;241m=\u001b[39mlazy_load_hdus,\n\u001b[1;32m    494\u001b[0m         \u001b[38;5;241m*\u001b[39m\u001b[38;5;241m*\u001b[39mkwargs,\n\u001b[1;32m    495\u001b[0m     )\n",
      "File \u001b[0;32m~/anaconda3/envs/rte/lib/python3.11/site-packages/astropy/io/fits/hdu/hdulist.py:1157\u001b[0m, in \u001b[0;36mHDUList._readfrom\u001b[0;34m(cls, fileobj, data, mode, memmap, cache, lazy_load_hdus, ignore_missing_simple, use_fsspec, fsspec_kwargs, decompress_in_memory, **kwargs)\u001b[0m\n\u001b[1;32m   1154\u001b[0m \u001b[38;5;28;01mif\u001b[39;00m fileobj \u001b[38;5;129;01mis\u001b[39;00m \u001b[38;5;129;01mnot\u001b[39;00m \u001b[38;5;28;01mNone\u001b[39;00m:\n\u001b[1;32m   1155\u001b[0m     \u001b[38;5;28;01mif\u001b[39;00m \u001b[38;5;129;01mnot\u001b[39;00m \u001b[38;5;28misinstance\u001b[39m(fileobj, _File):\n\u001b[1;32m   1156\u001b[0m         \u001b[38;5;66;03m# instantiate a FITS file object (ffo)\u001b[39;00m\n\u001b[0;32m-> 1157\u001b[0m         fileobj \u001b[38;5;241m=\u001b[39m _File(\n\u001b[1;32m   1158\u001b[0m             fileobj,\n\u001b[1;32m   1159\u001b[0m             mode\u001b[38;5;241m=\u001b[39mmode,\n\u001b[1;32m   1160\u001b[0m             memmap\u001b[38;5;241m=\u001b[39mmemmap,\n\u001b[1;32m   1161\u001b[0m             cache\u001b[38;5;241m=\u001b[39mcache,\n\u001b[1;32m   1162\u001b[0m             use_fsspec\u001b[38;5;241m=\u001b[39muse_fsspec,\n\u001b[1;32m   1163\u001b[0m             fsspec_kwargs\u001b[38;5;241m=\u001b[39mfsspec_kwargs,\n\u001b[1;32m   1164\u001b[0m             decompress_in_memory\u001b[38;5;241m=\u001b[39mdecompress_in_memory,\n\u001b[1;32m   1165\u001b[0m         )\n\u001b[1;32m   1166\u001b[0m     \u001b[38;5;66;03m# The Astropy mode is determined by the _File initializer if the\u001b[39;00m\n\u001b[1;32m   1167\u001b[0m     \u001b[38;5;66;03m# supplied mode was None\u001b[39;00m\n\u001b[1;32m   1168\u001b[0m     mode \u001b[38;5;241m=\u001b[39m fileobj\u001b[38;5;241m.\u001b[39mmode\n",
      "File \u001b[0;32m~/anaconda3/envs/rte/lib/python3.11/site-packages/astropy/io/fits/file.py:218\u001b[0m, in \u001b[0;36m_File.__init__\u001b[0;34m(self, fileobj, mode, memmap, overwrite, cache, use_fsspec, fsspec_kwargs, decompress_in_memory)\u001b[0m\n\u001b[1;32m    216\u001b[0m     \u001b[38;5;28mself\u001b[39m\u001b[38;5;241m.\u001b[39m_open_fileobj(fileobj, mode, overwrite)\n\u001b[1;32m    217\u001b[0m \u001b[38;5;28;01melif\u001b[39;00m \u001b[38;5;28misinstance\u001b[39m(fileobj, (\u001b[38;5;28mstr\u001b[39m, \u001b[38;5;28mbytes\u001b[39m)):\n\u001b[0;32m--> 218\u001b[0m     \u001b[38;5;28mself\u001b[39m\u001b[38;5;241m.\u001b[39m_open_filename(fileobj, mode, overwrite)\n\u001b[1;32m    219\u001b[0m \u001b[38;5;28;01melse\u001b[39;00m:\n\u001b[1;32m    220\u001b[0m     \u001b[38;5;28mself\u001b[39m\u001b[38;5;241m.\u001b[39m_open_filelike(fileobj, mode, overwrite)\n",
      "File \u001b[0;32m~/anaconda3/envs/rte/lib/python3.11/site-packages/astropy/io/fits/file.py:633\u001b[0m, in \u001b[0;36m_File._open_filename\u001b[0;34m(self, filename, mode, overwrite)\u001b[0m\n\u001b[1;32m    630\u001b[0m     \u001b[38;5;28mself\u001b[39m\u001b[38;5;241m.\u001b[39m_overwrite_existing(overwrite, \u001b[38;5;28;01mNone\u001b[39;00m, \u001b[38;5;28;01mTrue\u001b[39;00m)\n\u001b[1;32m    632\u001b[0m \u001b[38;5;28;01mif\u001b[39;00m os\u001b[38;5;241m.\u001b[39mpath\u001b[38;5;241m.\u001b[39mexists(\u001b[38;5;28mself\u001b[39m\u001b[38;5;241m.\u001b[39mname):\n\u001b[0;32m--> 633\u001b[0m     \u001b[38;5;28;01mwith\u001b[39;00m \u001b[38;5;28mopen\u001b[39m(\u001b[38;5;28mself\u001b[39m\u001b[38;5;241m.\u001b[39mname, \u001b[38;5;124m\"\u001b[39m\u001b[38;5;124mrb\u001b[39m\u001b[38;5;124m\"\u001b[39m) \u001b[38;5;28;01mas\u001b[39;00m f:\n\u001b[1;32m    634\u001b[0m         magic \u001b[38;5;241m=\u001b[39m f\u001b[38;5;241m.\u001b[39mread(\u001b[38;5;241m4\u001b[39m)\n\u001b[1;32m    635\u001b[0m \u001b[38;5;28;01melse\u001b[39;00m:\n",
      "\u001b[0;31mIsADirectoryError\u001b[0m: [Errno 21] Is a directory: 'removed/'"
     ]
    }
   ],
   "source": [
    "layers = {}\n",
    "\n",
    "with open('nan_output.txt', 'r') as f:\n",
    "    nan_output = f.read().split('\\n')\n",
    "\n",
    "for spectrum in nan_output:\n",
    "    flux = torch.from_numpy(fits.getdata(f'removed/{spectrum}').astype(np.float64))\n",
    "\n",
    "    for i, layer in enumerate(list(model.children())):\n",
    "        flux = layer(flux)\n",
    "        \n",
    "        if flux.isnan().any():\n",
    "            print(i, layer)\n",
    "            if i not in layers:\n",
    "                layers[i] = 0\n",
    "            layers[i] += 1\n",
    "            break"
   ]
  },
  {
   "cell_type": "code",
   "execution_count": 32,
   "metadata": {},
   "outputs": [
    {
     "data": {
      "text/plain": [
       "{0: 114}"
      ]
     },
     "execution_count": 32,
     "metadata": {},
     "output_type": "execute_result"
    }
   ],
   "source": [
    "layers"
   ]
  },
  {
   "cell_type": "code",
   "execution_count": null,
   "metadata": {},
   "outputs": [],
   "source": [
    "for spectrum in nan_output:\n",
    "    flux = torch.from_numpy(fits.getdata(f'removed/{spectrum}').astype(np.float32))\n",
    "    \n",
    "\n",
    "    out0 = list(model.children())[0](flux)"
   ]
  },
  {
   "cell_type": "code",
   "execution_count": 33,
   "metadata": {},
   "outputs": [],
   "source": [
    "nan_conv = 0\n",
    "for spectrum in nan_output:\n",
    "    flux = torch.from_numpy(fits.getdata(f'removed/{spectrum}').astype(np.float32))\n",
    "    flux = flux.unsqueeze(0)\n",
    "    out0 = list(model.children())[0][0](flux)\n",
    "    \n",
    "    if out0.isnan().any():\n",
    "        nan_conv += 1"
   ]
  },
  {
   "cell_type": "code",
   "execution_count": 34,
   "metadata": {},
   "outputs": [
    {
     "data": {
      "text/plain": [
       "114"
      ]
     },
     "execution_count": 34,
     "metadata": {},
     "output_type": "execute_result"
    }
   ],
   "source": [
    "nan_conv"
   ]
  },
  {
   "cell_type": "code",
   "execution_count": 36,
   "metadata": {},
   "outputs": [
    {
     "data": {
      "text/plain": [
       "torch.Size([16, 1, 7])"
      ]
     },
     "execution_count": 36,
     "metadata": {},
     "output_type": "execute_result"
    }
   ],
   "source": [
    "list(model.children())[0][0].weight.shape"
   ]
  },
  {
   "cell_type": "code",
   "execution_count": 50,
   "metadata": {},
   "outputs": [
    {
     "name": "stdout",
     "output_type": "stream",
     "text": [
      "0 tensor(True)\n",
      "1 tensor(True)\n",
      "2 tensor(True)\n",
      "3 tensor(True)\n",
      "4 tensor(True)\n",
      "5 tensor(True)\n",
      "6 tensor(True)\n",
      "7 tensor(True)\n",
      "8 tensor(True)\n",
      "9 tensor(True)\n",
      "10 tensor(True)\n",
      "11 tensor(True)\n",
      "12 tensor(True)\n",
      "13 tensor(True)\n",
      "14 tensor(True)\n",
      "15 tensor(True)\n",
      "16 tensor(True)\n",
      "17 tensor(True)\n",
      "18 tensor(True)\n",
      "19 tensor(True)\n",
      "20 tensor(True)\n",
      "21 tensor(True)\n",
      "22 tensor(True)\n",
      "23 tensor(True)\n",
      "24 tensor(True)\n",
      "25 tensor(True)\n",
      "26 tensor(True)\n",
      "27 tensor(True)\n",
      "28 tensor(True)\n",
      "29 tensor(True)\n",
      "30 tensor(True)\n",
      "31 tensor(True)\n",
      "32 tensor(True)\n",
      "33 tensor(True)\n",
      "34 tensor(True)\n",
      "35 tensor(True)\n",
      "36 tensor(True)\n",
      "37 tensor(True)\n",
      "38 tensor(True)\n",
      "39 tensor(True)\n",
      "40 tensor(True)\n",
      "41 tensor(True)\n",
      "42 tensor(True)\n",
      "43 tensor(True)\n",
      "44 tensor(True)\n",
      "45 tensor(True)\n",
      "46 tensor(True)\n",
      "47 tensor(True)\n",
      "48 tensor(True)\n",
      "49 tensor(True)\n",
      "50 tensor(True)\n",
      "51 tensor(True)\n",
      "52 tensor(True)\n",
      "53 tensor(True)\n",
      "54 tensor(True)\n",
      "55 tensor(True)\n",
      "56 tensor(True)\n",
      "57 tensor(True)\n",
      "58 tensor(True)\n",
      "59 tensor(True)\n",
      "60 tensor(True)\n",
      "61 tensor(True)\n",
      "62 tensor(True)\n",
      "63 tensor(True)\n",
      "64 tensor(True)\n",
      "65 tensor(True)\n",
      "66 tensor(True)\n",
      "67 tensor(True)\n",
      "68 tensor(True)\n",
      "69 tensor(True)\n",
      "70 tensor(True)\n",
      "71 tensor(True)\n",
      "72 tensor(True)\n",
      "73 tensor(True)\n",
      "74 tensor(True)\n",
      "75 tensor(True)\n",
      "76 tensor(True)\n",
      "77 tensor(True)\n",
      "78 tensor(True)\n",
      "79 tensor(True)\n",
      "80 tensor(True)\n",
      "81 tensor(True)\n",
      "82 tensor(True)\n",
      "83 tensor(True)\n",
      "84 tensor(True)\n",
      "85 tensor(True)\n",
      "86 tensor(True)\n",
      "87 tensor(True)\n",
      "88 tensor(True)\n",
      "89 tensor(True)\n",
      "90 tensor(True)\n",
      "91 tensor(True)\n",
      "92 tensor(True)\n",
      "93 tensor(True)\n",
      "94 tensor(True)\n",
      "95 tensor(True)\n",
      "96 tensor(True)\n",
      "97 tensor(True)\n",
      "98 tensor(True)\n",
      "99 tensor(True)\n",
      "100 tensor(True)\n",
      "101 tensor(True)\n",
      "102 tensor(True)\n",
      "103 tensor(True)\n",
      "104 tensor(True)\n",
      "105 tensor(True)\n",
      "106 tensor(True)\n",
      "107 tensor(True)\n",
      "108 tensor(True)\n",
      "109 tensor(True)\n",
      "110 tensor(True)\n",
      "111 tensor(True)\n",
      "112 tensor(True)\n",
      "113 tensor(True)\n"
     ]
    }
   ],
   "source": [
    "\"\"\"\n",
    "Conv1d(1, 16, kernel_size=(7,), stride=(2,), padding=(3,)\n",
    "\n",
    "def _conv_forward(self, input: Tensor, weight: Tensor, bias: Optional[Tensor]):\n",
    "    if self.padding_mode != 'zeros':\n",
    "        return F.conv1d(F.pad(input, self._reversed_padding_repeated_twice, mode=self.padding_mode),\n",
    "                        weight, bias, self.stride,\n",
    "                        _single(0), self.dilation, self.groups)\n",
    "    return F.conv1d(input, weight, bias, self.stride, self.padding, self.dilation, self.groups)\n",
    "\"\"\"\n",
    "import torch.nn.functional as F\n",
    "for i, spectrum in enumerate(nan_output):\n",
    "    flux = torch.from_numpy(fits.getdata(f'removed/{spectrum}').astype(np.float32))\n",
    "    flux = flux.unsqueeze(0)\n",
    "\n",
    "\n",
    "    weights = list(model.children())[0][0].weight\n",
    "    weights = torch.zeros_like(weights)\n",
    "    bias = list(model.children())[0][0].bias\n",
    "\n",
    "    out0 = F.conv1d(flux, weights, bias, stride=(2,), padding=(3,), dilation=1, groups=1)\n",
    "\n",
    "    print(i, out0.isnan().any())\n",
    "\n",
    "    "
   ]
  },
  {
   "cell_type": "code",
   "execution_count": 44,
   "metadata": {},
   "outputs": [
    {
     "data": {
      "text/plain": [
       "torch.Size([1, 16, 163840])"
      ]
     },
     "execution_count": 44,
     "metadata": {},
     "output_type": "execute_result"
    }
   ],
   "source": [
    "out0.shape"
   ]
  },
  {
   "cell_type": "code",
   "execution_count": 49,
   "metadata": {},
   "outputs": [
    {
     "ename": "TypeError",
     "evalue": "tuple indices must be integers or slices, not tuple",
     "output_type": "error",
     "traceback": [
      "\u001b[0;31m---------------------------------------------------------------------------\u001b[0m",
      "\u001b[0;31mTypeError\u001b[0m                                 Traceback (most recent call last)",
      "Cell \u001b[0;32mIn[49], line 1\u001b[0m\n\u001b[0;32m----> 1\u001b[0m \u001b[38;5;28mprint\u001b[39m(np\u001b[38;5;241m.\u001b[39mwhere(out0\u001b[38;5;241m.\u001b[39misnan())[:, \u001b[38;5;241m0\u001b[39m])\n",
      "\u001b[0;31mTypeError\u001b[0m: tuple indices must be integers or slices, not tuple"
     ]
    }
   ],
   "source": [
    "print(np.where(out0.isnan())[:, 0])"
   ]
  },
  {
   "cell_type": "code",
   "execution_count": 41,
   "metadata": {},
   "outputs": [
    {
     "name": "stdout",
     "output_type": "stream",
     "text": [
      "tensor(False)\n"
     ]
    }
   ],
   "source": [
    "fname = os.listdir('preprocessed/')[0]\n",
    "flux = torch.from_numpy(fits.getdata(f'preprocessed/{fname}').astype(np.float32))\n",
    "flux = flux.unsqueeze(0)\n",
    "\n",
    "weights = list(model.children())[0][0].weight\n",
    "bias = list(model.children())[0][0].bias\n",
    "\n",
    "out0 = F.conv1d(flux, weights, bias, stride=(2,), padding=(3,), dilation=1, groups=1)\n",
    "\n",
    "print(out0.isnan().any())"
   ]
  },
  {
   "cell_type": "code",
   "execution_count": 9,
   "metadata": {},
   "outputs": [
    {
     "name": "stdout",
     "output_type": "stream",
     "text": [
      "nan\n",
      "nan\n"
     ]
    }
   ],
   "source": [
    "print(np.min([np.min(fits.getdata(f'removed/{fname}')) for fname in os.listdir('removed/')]))"
   ]
  },
  {
   "cell_type": "code",
   "execution_count": 16,
   "metadata": {},
   "outputs": [
    {
     "name": "stdout",
     "output_type": "stream",
     "text": [
      "228 ADP.2014-10-01T10:20:24.770.fits nan 0\n",
      "229 ADP.2014-10-01T10:22:14.220.fits nan 0\n",
      "230 ADP.2014-10-01T10:23:18.623.fits nan 0\n",
      "265 ADP.2014-10-01T10:23:00.420.fits nan 0\n",
      "266 ADP.2014-10-01T10:19:57.883.fits nan 0\n",
      "267 ADP.2014-10-01T10:21:41.850.fits nan 0\n",
      "270 ADP.2014-10-01T10:22:21.423.fits nan 0\n",
      "272 ADP.2014-10-01T10:19:06.723.fits nan 0\n",
      "276 ADP.2014-10-01T10:22:16.693.fits nan 0\n",
      "291 ADP.2014-10-01T10:21:38.787.fits nan 0\n",
      "294 ADP.2014-10-01T10:23:19.653.fits nan 0\n",
      "319 ADP.2014-10-01T10:23:23.360.fits nan 0\n",
      "320 ADP.2014-10-01T10:20:17.697.fits nan 0\n",
      "321 ADP.2014-10-01T10:23:10.527.fits nan 0\n",
      "1323 ADP.2014-10-01T10:19:09.597.fits nan 0\n",
      "1324 ADP.2014-10-01T10:19:49.723.fits nan 0\n",
      "1325 ADP.2014-10-01T10:19:35.093.fits nan 0\n",
      "1436 ADP.2014-10-01T10:22:18.587.fits nan 0\n",
      "1437 ADP.2014-10-01T10:21:59.643.fits nan 0\n",
      "1438 ADP.2014-10-01T10:19:26.093.fits nan 0\n",
      "1540 ADP.2014-10-01T10:21:24.530.fits nan 0\n",
      "1547 ADP.2014-10-01T10:20:20.907.fits nan 0\n",
      "1548 ADP.2014-10-01T10:21:03.797.fits nan 0\n",
      "1804 ADP.2014-10-01T10:21:53.313.fits nan 0\n",
      "1805 ADP.2014-10-01T10:20:41.190.fits nan 0\n",
      "1807 ADP.2014-10-01T10:22:47.490.fits nan 0\n",
      "1894 ADP.2014-10-01T10:21:18.797.fits nan 0\n",
      "1895 ADP.2014-10-01T10:22:32.237.fits nan 0\n",
      "1896 ADP.2014-10-01T10:23:17.473.fits nan 0\n",
      "1925 ADP.2014-10-01T10:22:56.750.fits nan 0\n",
      "1926 ADP.2014-10-01T10:21:30.030.fits nan 0\n",
      "1927 ADP.2014-10-01T10:23:19.437.fits nan 0\n",
      "2192 ADP.2014-10-01T10:22:48.007.fits nan 0\n",
      "2193 ADP.2014-10-01T10:19:28.657.fits nan 0\n",
      "2194 ADP.2014-10-01T10:21:49.760.fits nan 0\n",
      "2241 ADP.2014-10-01T10:21:20.833.fits nan 0\n",
      "2242 ADP.2014-10-01T10:21:15.923.fits nan 0\n",
      "2243 ADP.2014-10-01T10:20:03.473.fits nan 0\n",
      "2244 ADP.2014-10-01T10:21:29.823.fits nan 0\n",
      "2257 ADP.2014-10-01T10:22:24.340.fits nan 0\n",
      "2290 ADP.2014-10-01T10:20:18.437.fits nan 0\n",
      "2300 ADP.2014-10-01T10:21:54.740.fits nan 0\n",
      "2305 ADP.2014-10-01T10:21:27.987.fits nan 0\n",
      "2306 ADP.2014-10-01T10:23:17.173.fits nan 0\n",
      "2307 ADP.2014-10-01T10:20:50.327.fits nan 0\n",
      "2308 ADP.2014-10-01T10:19:33.587.fits nan 0\n",
      "2309 ADP.2014-10-01T10:20:40.257.fits nan 0\n",
      "2310 ADP.2014-10-01T10:20:25.263.fits nan 0\n",
      "2311 ADP.2014-10-01T10:21:06.490.fits nan 0\n",
      "2312 ADP.2014-10-01T10:21:56.420.fits nan 0\n",
      "2328 ADP.2014-10-01T10:21:38.400.fits nan 0\n",
      "2333 ADP.2014-10-01T10:21:26.373.fits nan 0\n",
      "2345 ADP.2014-10-01T10:21:29.093.fits nan 0\n",
      "2346 ADP.2014-10-01T10:19:24.333.fits nan 0\n",
      "2539 ADP.2014-10-01T10:22:43.780.fits nan 0\n",
      "2541 ADP.2014-10-01T10:21:59.257.fits nan 0\n",
      "2542 ADP.2014-10-01T10:22:39.330.fits nan 0\n",
      "2624 ADP.2014-10-01T10:21:22.640.fits nan 0\n",
      "2625 ADP.2014-10-01T10:23:37.880.fits nan 0\n",
      "2626 ADP.2014-10-01T10:20:02.380.fits nan 0\n"
     ]
    },
    {
     "ename": "KeyboardInterrupt",
     "evalue": "",
     "output_type": "error",
     "traceback": [
      "\u001b[0;31m---------------------------------------------------------------------------\u001b[0m",
      "\u001b[0;31mKeyboardInterrupt\u001b[0m                         Traceback (most recent call last)",
      "Cell \u001b[0;32mIn[16], line 2\u001b[0m\n\u001b[1;32m      1\u001b[0m \u001b[38;5;28;01mfor\u001b[39;00m i, fname \u001b[38;5;129;01min\u001b[39;00m \u001b[38;5;28menumerate\u001b[39m(os\u001b[38;5;241m.\u001b[39mlistdir(\u001b[38;5;124m'\u001b[39m\u001b[38;5;124mremoved/\u001b[39m\u001b[38;5;124m'\u001b[39m)):\n\u001b[0;32m----> 2\u001b[0m     flux \u001b[38;5;241m=\u001b[39m fits\u001b[38;5;241m.\u001b[39mgetdata(\u001b[38;5;124mf\u001b[39m\u001b[38;5;124m'\u001b[39m\u001b[38;5;124mremoved/\u001b[39m\u001b[38;5;132;01m{\u001b[39;00mfname\u001b[38;5;132;01m}\u001b[39;00m\u001b[38;5;124m'\u001b[39m, ext\u001b[38;5;241m=\u001b[39m\u001b[38;5;241m0\u001b[39m)\n\u001b[1;32m      3\u001b[0m     \u001b[38;5;28;01mif\u001b[39;00m np\u001b[38;5;241m.\u001b[39misnan(np\u001b[38;5;241m.\u001b[39mmin(flux)):\n\u001b[1;32m      4\u001b[0m         \u001b[38;5;28mprint\u001b[39m(i, fname, np\u001b[38;5;241m.\u001b[39mmin(flux), np\u001b[38;5;241m.\u001b[39margmin(flux))\n",
      "File \u001b[0;32m~/anaconda3/envs/rte/lib/python3.11/site-packages/astropy/io/fits/convenience.py:220\u001b[0m, in \u001b[0;36mgetdata\u001b[0;34m(filename, header, lower, upper, view, *args, **kwargs)\u001b[0m\n\u001b[1;32m    215\u001b[0m extver \u001b[38;5;241m=\u001b[39m kwargs\u001b[38;5;241m.\u001b[39mget(\u001b[38;5;124m\"\u001b[39m\u001b[38;5;124mextver\u001b[39m\u001b[38;5;124m\"\u001b[39m)\n\u001b[1;32m    216\u001b[0m ext_given \u001b[38;5;241m=\u001b[39m \u001b[38;5;129;01mnot\u001b[39;00m (\n\u001b[1;32m    217\u001b[0m     \u001b[38;5;28mlen\u001b[39m(args) \u001b[38;5;241m==\u001b[39m \u001b[38;5;241m0\u001b[39m \u001b[38;5;129;01mand\u001b[39;00m ext \u001b[38;5;129;01mis\u001b[39;00m \u001b[38;5;28;01mNone\u001b[39;00m \u001b[38;5;129;01mand\u001b[39;00m extname \u001b[38;5;129;01mis\u001b[39;00m \u001b[38;5;28;01mNone\u001b[39;00m \u001b[38;5;129;01mand\u001b[39;00m extver \u001b[38;5;129;01mis\u001b[39;00m \u001b[38;5;28;01mNone\u001b[39;00m\n\u001b[1;32m    218\u001b[0m )\n\u001b[0;32m--> 220\u001b[0m hdulist, extidx \u001b[38;5;241m=\u001b[39m _getext(filename, mode, \u001b[38;5;241m*\u001b[39margs, \u001b[38;5;241m*\u001b[39m\u001b[38;5;241m*\u001b[39mkwargs)\n\u001b[1;32m    221\u001b[0m \u001b[38;5;28;01mtry\u001b[39;00m:\n\u001b[1;32m    222\u001b[0m     hdu \u001b[38;5;241m=\u001b[39m hdulist[extidx]\n",
      "File \u001b[0;32m~/anaconda3/envs/rte/lib/python3.11/site-packages/astropy/io/fits/convenience.py:1114\u001b[0m, in \u001b[0;36m_getext\u001b[0;34m(filename, mode, ext, extname, extver, *args, **kwargs)\u001b[0m\n\u001b[1;32m   1111\u001b[0m \u001b[38;5;28;01melif\u001b[39;00m extver \u001b[38;5;129;01mand\u001b[39;00m extname \u001b[38;5;129;01mis\u001b[39;00m \u001b[38;5;28;01mNone\u001b[39;00m:\n\u001b[1;32m   1112\u001b[0m     \u001b[38;5;28;01mraise\u001b[39;00m \u001b[38;5;167;01mTypeError\u001b[39;00m(\u001b[38;5;124m\"\u001b[39m\u001b[38;5;124mextver alone cannot specify an extension.\u001b[39m\u001b[38;5;124m\"\u001b[39m)\n\u001b[0;32m-> 1114\u001b[0m hdulist \u001b[38;5;241m=\u001b[39m fitsopen(filename, mode\u001b[38;5;241m=\u001b[39mmode, \u001b[38;5;241m*\u001b[39m\u001b[38;5;241m*\u001b[39mkwargs)\n\u001b[1;32m   1116\u001b[0m \u001b[38;5;28;01mreturn\u001b[39;00m hdulist, ext\n",
      "File \u001b[0;32m~/anaconda3/envs/rte/lib/python3.11/site-packages/astropy/io/fits/hdu/hdulist.py:222\u001b[0m, in \u001b[0;36mfitsopen\u001b[0;34m(name, mode, memmap, save_backup, cache, lazy_load_hdus, ignore_missing_simple, use_fsspec, fsspec_kwargs, decompress_in_memory, **kwargs)\u001b[0m\n\u001b[1;32m    219\u001b[0m \u001b[38;5;28;01mif\u001b[39;00m \u001b[38;5;129;01mnot\u001b[39;00m name:\n\u001b[1;32m    220\u001b[0m     \u001b[38;5;28;01mraise\u001b[39;00m \u001b[38;5;167;01mValueError\u001b[39;00m(\u001b[38;5;124mf\u001b[39m\u001b[38;5;124m\"\u001b[39m\u001b[38;5;124mEmpty filename: \u001b[39m\u001b[38;5;132;01m{\u001b[39;00mname\u001b[38;5;132;01m!r}\u001b[39;00m\u001b[38;5;124m\"\u001b[39m)\n\u001b[0;32m--> 222\u001b[0m \u001b[38;5;28;01mreturn\u001b[39;00m HDUList\u001b[38;5;241m.\u001b[39mfromfile(\n\u001b[1;32m    223\u001b[0m     name,\n\u001b[1;32m    224\u001b[0m     mode,\n\u001b[1;32m    225\u001b[0m     memmap,\n\u001b[1;32m    226\u001b[0m     save_backup,\n\u001b[1;32m    227\u001b[0m     cache,\n\u001b[1;32m    228\u001b[0m     lazy_load_hdus,\n\u001b[1;32m    229\u001b[0m     ignore_missing_simple,\n\u001b[1;32m    230\u001b[0m     use_fsspec\u001b[38;5;241m=\u001b[39muse_fsspec,\n\u001b[1;32m    231\u001b[0m     fsspec_kwargs\u001b[38;5;241m=\u001b[39mfsspec_kwargs,\n\u001b[1;32m    232\u001b[0m     decompress_in_memory\u001b[38;5;241m=\u001b[39mdecompress_in_memory,\n\u001b[1;32m    233\u001b[0m     \u001b[38;5;241m*\u001b[39m\u001b[38;5;241m*\u001b[39mkwargs,\n\u001b[1;32m    234\u001b[0m )\n",
      "File \u001b[0;32m~/anaconda3/envs/rte/lib/python3.11/site-packages/astropy/io/fits/hdu/hdulist.py:486\u001b[0m, in \u001b[0;36mHDUList.fromfile\u001b[0;34m(cls, fileobj, mode, memmap, save_backup, cache, lazy_load_hdus, ignore_missing_simple, **kwargs)\u001b[0m\n\u001b[1;32m    467\u001b[0m \u001b[38;5;129m@classmethod\u001b[39m\n\u001b[1;32m    468\u001b[0m \u001b[38;5;28;01mdef\u001b[39;00m \u001b[38;5;21mfromfile\u001b[39m(\n\u001b[1;32m    469\u001b[0m     \u001b[38;5;28mcls\u001b[39m,\n\u001b[0;32m   (...)\u001b[0m\n\u001b[1;32m    477\u001b[0m     \u001b[38;5;241m*\u001b[39m\u001b[38;5;241m*\u001b[39mkwargs,\n\u001b[1;32m    478\u001b[0m ):\n\u001b[1;32m    479\u001b[0m \u001b[38;5;250m    \u001b[39m\u001b[38;5;124;03m\"\"\"\u001b[39;00m\n\u001b[1;32m    480\u001b[0m \u001b[38;5;124;03m    Creates an `HDUList` instance from a file-like object.\u001b[39;00m\n\u001b[1;32m    481\u001b[0m \n\u001b[0;32m   (...)\u001b[0m\n\u001b[1;32m    484\u001b[0m \u001b[38;5;124;03m    documentation for details of the parameters accepted by this method).\u001b[39;00m\n\u001b[1;32m    485\u001b[0m \u001b[38;5;124;03m    \"\"\"\u001b[39;00m\n\u001b[0;32m--> 486\u001b[0m     \u001b[38;5;28;01mreturn\u001b[39;00m \u001b[38;5;28mcls\u001b[39m\u001b[38;5;241m.\u001b[39m_readfrom(\n\u001b[1;32m    487\u001b[0m         fileobj\u001b[38;5;241m=\u001b[39mfileobj,\n\u001b[1;32m    488\u001b[0m         mode\u001b[38;5;241m=\u001b[39mmode,\n\u001b[1;32m    489\u001b[0m         memmap\u001b[38;5;241m=\u001b[39mmemmap,\n\u001b[1;32m    490\u001b[0m         save_backup\u001b[38;5;241m=\u001b[39msave_backup,\n\u001b[1;32m    491\u001b[0m         cache\u001b[38;5;241m=\u001b[39mcache,\n\u001b[1;32m    492\u001b[0m         ignore_missing_simple\u001b[38;5;241m=\u001b[39mignore_missing_simple,\n\u001b[1;32m    493\u001b[0m         lazy_load_hdus\u001b[38;5;241m=\u001b[39mlazy_load_hdus,\n\u001b[1;32m    494\u001b[0m         \u001b[38;5;241m*\u001b[39m\u001b[38;5;241m*\u001b[39mkwargs,\n\u001b[1;32m    495\u001b[0m     )\n",
      "File \u001b[0;32m~/anaconda3/envs/rte/lib/python3.11/site-packages/astropy/io/fits/hdu/hdulist.py:1157\u001b[0m, in \u001b[0;36mHDUList._readfrom\u001b[0;34m(cls, fileobj, data, mode, memmap, cache, lazy_load_hdus, ignore_missing_simple, use_fsspec, fsspec_kwargs, decompress_in_memory, **kwargs)\u001b[0m\n\u001b[1;32m   1154\u001b[0m \u001b[38;5;28;01mif\u001b[39;00m fileobj \u001b[38;5;129;01mis\u001b[39;00m \u001b[38;5;129;01mnot\u001b[39;00m \u001b[38;5;28;01mNone\u001b[39;00m:\n\u001b[1;32m   1155\u001b[0m     \u001b[38;5;28;01mif\u001b[39;00m \u001b[38;5;129;01mnot\u001b[39;00m \u001b[38;5;28misinstance\u001b[39m(fileobj, _File):\n\u001b[1;32m   1156\u001b[0m         \u001b[38;5;66;03m# instantiate a FITS file object (ffo)\u001b[39;00m\n\u001b[0;32m-> 1157\u001b[0m         fileobj \u001b[38;5;241m=\u001b[39m _File(\n\u001b[1;32m   1158\u001b[0m             fileobj,\n\u001b[1;32m   1159\u001b[0m             mode\u001b[38;5;241m=\u001b[39mmode,\n\u001b[1;32m   1160\u001b[0m             memmap\u001b[38;5;241m=\u001b[39mmemmap,\n\u001b[1;32m   1161\u001b[0m             cache\u001b[38;5;241m=\u001b[39mcache,\n\u001b[1;32m   1162\u001b[0m             use_fsspec\u001b[38;5;241m=\u001b[39muse_fsspec,\n\u001b[1;32m   1163\u001b[0m             fsspec_kwargs\u001b[38;5;241m=\u001b[39mfsspec_kwargs,\n\u001b[1;32m   1164\u001b[0m             decompress_in_memory\u001b[38;5;241m=\u001b[39mdecompress_in_memory,\n\u001b[1;32m   1165\u001b[0m         )\n\u001b[1;32m   1166\u001b[0m     \u001b[38;5;66;03m# The Astropy mode is determined by the _File initializer if the\u001b[39;00m\n\u001b[1;32m   1167\u001b[0m     \u001b[38;5;66;03m# supplied mode was None\u001b[39;00m\n\u001b[1;32m   1168\u001b[0m     mode \u001b[38;5;241m=\u001b[39m fileobj\u001b[38;5;241m.\u001b[39mmode\n",
      "File \u001b[0;32m~/anaconda3/envs/rte/lib/python3.11/site-packages/astropy/io/fits/file.py:218\u001b[0m, in \u001b[0;36m_File.__init__\u001b[0;34m(self, fileobj, mode, memmap, overwrite, cache, use_fsspec, fsspec_kwargs, decompress_in_memory)\u001b[0m\n\u001b[1;32m    216\u001b[0m     \u001b[38;5;28mself\u001b[39m\u001b[38;5;241m.\u001b[39m_open_fileobj(fileobj, mode, overwrite)\n\u001b[1;32m    217\u001b[0m \u001b[38;5;28;01melif\u001b[39;00m \u001b[38;5;28misinstance\u001b[39m(fileobj, (\u001b[38;5;28mstr\u001b[39m, \u001b[38;5;28mbytes\u001b[39m)):\n\u001b[0;32m--> 218\u001b[0m     \u001b[38;5;28mself\u001b[39m\u001b[38;5;241m.\u001b[39m_open_filename(fileobj, mode, overwrite)\n\u001b[1;32m    219\u001b[0m \u001b[38;5;28;01melse\u001b[39;00m:\n\u001b[1;32m    220\u001b[0m     \u001b[38;5;28mself\u001b[39m\u001b[38;5;241m.\u001b[39m_open_filelike(fileobj, mode, overwrite)\n",
      "File \u001b[0;32m~/anaconda3/envs/rte/lib/python3.11/site-packages/astropy/io/fits/file.py:634\u001b[0m, in \u001b[0;36m_File._open_filename\u001b[0;34m(self, filename, mode, overwrite)\u001b[0m\n\u001b[1;32m    632\u001b[0m \u001b[38;5;28;01mif\u001b[39;00m os\u001b[38;5;241m.\u001b[39mpath\u001b[38;5;241m.\u001b[39mexists(\u001b[38;5;28mself\u001b[39m\u001b[38;5;241m.\u001b[39mname):\n\u001b[1;32m    633\u001b[0m     \u001b[38;5;28;01mwith\u001b[39;00m \u001b[38;5;28mopen\u001b[39m(\u001b[38;5;28mself\u001b[39m\u001b[38;5;241m.\u001b[39mname, \u001b[38;5;124m\"\u001b[39m\u001b[38;5;124mrb\u001b[39m\u001b[38;5;124m\"\u001b[39m) \u001b[38;5;28;01mas\u001b[39;00m f:\n\u001b[0;32m--> 634\u001b[0m         magic \u001b[38;5;241m=\u001b[39m f\u001b[38;5;241m.\u001b[39mread(\u001b[38;5;241m4\u001b[39m)\n\u001b[1;32m    635\u001b[0m \u001b[38;5;28;01melse\u001b[39;00m:\n\u001b[1;32m    636\u001b[0m     magic \u001b[38;5;241m=\u001b[39m \u001b[38;5;124mb\u001b[39m\u001b[38;5;124m\"\u001b[39m\u001b[38;5;124m\"\u001b[39m\n",
      "\u001b[0;31mKeyboardInterrupt\u001b[0m: "
     ]
    }
   ],
   "source": [
    "for i, fname in enumerate(os.listdir('removed/')):\n",
    "    flux = fits.getdata(f'removed/{fname}', ext=0)\n",
    "    if np.isnan(np.min(flux)):\n",
    "        print(i, fname, np.min(flux), np.argmin(flux))"
   ]
  },
  {
   "cell_type": "code",
   "execution_count": 16,
   "metadata": {},
   "outputs": [
    {
     "ename": "KeyboardInterrupt",
     "evalue": "",
     "output_type": "error",
     "traceback": [
      "\u001b[0;31m---------------------------------------------------------------------------\u001b[0m",
      "\u001b[0;31mKeyboardInterrupt\u001b[0m                         Traceback (most recent call last)",
      "Cell \u001b[0;32mIn[16], line 2\u001b[0m\n\u001b[1;32m      1\u001b[0m \u001b[38;5;28;01mfor\u001b[39;00m i, fname \u001b[38;5;129;01min\u001b[39;00m \u001b[38;5;28menumerate\u001b[39m(os\u001b[38;5;241m.\u001b[39mlistdir(\u001b[38;5;124m'\u001b[39m\u001b[38;5;124mpreprocessed/\u001b[39m\u001b[38;5;124m'\u001b[39m)):\n\u001b[0;32m----> 2\u001b[0m     flux \u001b[38;5;241m=\u001b[39m fits\u001b[38;5;241m.\u001b[39mgetdata(\u001b[38;5;124mf\u001b[39m\u001b[38;5;124m'\u001b[39m\u001b[38;5;124mpreprocessed/\u001b[39m\u001b[38;5;132;01m{\u001b[39;00mfname\u001b[38;5;132;01m}\u001b[39;00m\u001b[38;5;124m'\u001b[39m, ext\u001b[38;5;241m=\u001b[39m\u001b[38;5;241m0\u001b[39m)\n\u001b[1;32m      3\u001b[0m     \u001b[38;5;28;01mif\u001b[39;00m np\u001b[38;5;241m.\u001b[39misnan(np\u001b[38;5;241m.\u001b[39mmin(flux)):\n\u001b[1;32m      4\u001b[0m         \u001b[38;5;28mprint\u001b[39m(i, fname, np\u001b[38;5;241m.\u001b[39mmin(flux), np\u001b[38;5;241m.\u001b[39margmin(flux))\n",
      "File \u001b[0;32m~/anaconda3/envs/rte/lib/python3.11/site-packages/astropy/io/fits/convenience.py:220\u001b[0m, in \u001b[0;36mgetdata\u001b[0;34m(filename, header, lower, upper, view, *args, **kwargs)\u001b[0m\n\u001b[1;32m    215\u001b[0m extver \u001b[38;5;241m=\u001b[39m kwargs\u001b[38;5;241m.\u001b[39mget(\u001b[38;5;124m\"\u001b[39m\u001b[38;5;124mextver\u001b[39m\u001b[38;5;124m\"\u001b[39m)\n\u001b[1;32m    216\u001b[0m ext_given \u001b[38;5;241m=\u001b[39m \u001b[38;5;129;01mnot\u001b[39;00m (\n\u001b[1;32m    217\u001b[0m     \u001b[38;5;28mlen\u001b[39m(args) \u001b[38;5;241m==\u001b[39m \u001b[38;5;241m0\u001b[39m \u001b[38;5;129;01mand\u001b[39;00m ext \u001b[38;5;129;01mis\u001b[39;00m \u001b[38;5;28;01mNone\u001b[39;00m \u001b[38;5;129;01mand\u001b[39;00m extname \u001b[38;5;129;01mis\u001b[39;00m \u001b[38;5;28;01mNone\u001b[39;00m \u001b[38;5;129;01mand\u001b[39;00m extver \u001b[38;5;129;01mis\u001b[39;00m \u001b[38;5;28;01mNone\u001b[39;00m\n\u001b[1;32m    218\u001b[0m )\n\u001b[0;32m--> 220\u001b[0m hdulist, extidx \u001b[38;5;241m=\u001b[39m _getext(filename, mode, \u001b[38;5;241m*\u001b[39margs, \u001b[38;5;241m*\u001b[39m\u001b[38;5;241m*\u001b[39mkwargs)\n\u001b[1;32m    221\u001b[0m \u001b[38;5;28;01mtry\u001b[39;00m:\n\u001b[1;32m    222\u001b[0m     hdu \u001b[38;5;241m=\u001b[39m hdulist[extidx]\n",
      "File \u001b[0;32m~/anaconda3/envs/rte/lib/python3.11/site-packages/astropy/io/fits/convenience.py:1114\u001b[0m, in \u001b[0;36m_getext\u001b[0;34m(filename, mode, ext, extname, extver, *args, **kwargs)\u001b[0m\n\u001b[1;32m   1111\u001b[0m \u001b[38;5;28;01melif\u001b[39;00m extver \u001b[38;5;129;01mand\u001b[39;00m extname \u001b[38;5;129;01mis\u001b[39;00m \u001b[38;5;28;01mNone\u001b[39;00m:\n\u001b[1;32m   1112\u001b[0m     \u001b[38;5;28;01mraise\u001b[39;00m \u001b[38;5;167;01mTypeError\u001b[39;00m(\u001b[38;5;124m\"\u001b[39m\u001b[38;5;124mextver alone cannot specify an extension.\u001b[39m\u001b[38;5;124m\"\u001b[39m)\n\u001b[0;32m-> 1114\u001b[0m hdulist \u001b[38;5;241m=\u001b[39m fitsopen(filename, mode\u001b[38;5;241m=\u001b[39mmode, \u001b[38;5;241m*\u001b[39m\u001b[38;5;241m*\u001b[39mkwargs)\n\u001b[1;32m   1116\u001b[0m \u001b[38;5;28;01mreturn\u001b[39;00m hdulist, ext\n",
      "File \u001b[0;32m~/anaconda3/envs/rte/lib/python3.11/site-packages/astropy/io/fits/hdu/hdulist.py:222\u001b[0m, in \u001b[0;36mfitsopen\u001b[0;34m(name, mode, memmap, save_backup, cache, lazy_load_hdus, ignore_missing_simple, use_fsspec, fsspec_kwargs, decompress_in_memory, **kwargs)\u001b[0m\n\u001b[1;32m    219\u001b[0m \u001b[38;5;28;01mif\u001b[39;00m \u001b[38;5;129;01mnot\u001b[39;00m name:\n\u001b[1;32m    220\u001b[0m     \u001b[38;5;28;01mraise\u001b[39;00m \u001b[38;5;167;01mValueError\u001b[39;00m(\u001b[38;5;124mf\u001b[39m\u001b[38;5;124m\"\u001b[39m\u001b[38;5;124mEmpty filename: \u001b[39m\u001b[38;5;132;01m{\u001b[39;00mname\u001b[38;5;132;01m!r}\u001b[39;00m\u001b[38;5;124m\"\u001b[39m)\n\u001b[0;32m--> 222\u001b[0m \u001b[38;5;28;01mreturn\u001b[39;00m HDUList\u001b[38;5;241m.\u001b[39mfromfile(\n\u001b[1;32m    223\u001b[0m     name,\n\u001b[1;32m    224\u001b[0m     mode,\n\u001b[1;32m    225\u001b[0m     memmap,\n\u001b[1;32m    226\u001b[0m     save_backup,\n\u001b[1;32m    227\u001b[0m     cache,\n\u001b[1;32m    228\u001b[0m     lazy_load_hdus,\n\u001b[1;32m    229\u001b[0m     ignore_missing_simple,\n\u001b[1;32m    230\u001b[0m     use_fsspec\u001b[38;5;241m=\u001b[39muse_fsspec,\n\u001b[1;32m    231\u001b[0m     fsspec_kwargs\u001b[38;5;241m=\u001b[39mfsspec_kwargs,\n\u001b[1;32m    232\u001b[0m     decompress_in_memory\u001b[38;5;241m=\u001b[39mdecompress_in_memory,\n\u001b[1;32m    233\u001b[0m     \u001b[38;5;241m*\u001b[39m\u001b[38;5;241m*\u001b[39mkwargs,\n\u001b[1;32m    234\u001b[0m )\n",
      "File \u001b[0;32m~/anaconda3/envs/rte/lib/python3.11/site-packages/astropy/io/fits/hdu/hdulist.py:486\u001b[0m, in \u001b[0;36mHDUList.fromfile\u001b[0;34m(cls, fileobj, mode, memmap, save_backup, cache, lazy_load_hdus, ignore_missing_simple, **kwargs)\u001b[0m\n\u001b[1;32m    467\u001b[0m \u001b[38;5;129m@classmethod\u001b[39m\n\u001b[1;32m    468\u001b[0m \u001b[38;5;28;01mdef\u001b[39;00m \u001b[38;5;21mfromfile\u001b[39m(\n\u001b[1;32m    469\u001b[0m     \u001b[38;5;28mcls\u001b[39m,\n\u001b[0;32m   (...)\u001b[0m\n\u001b[1;32m    477\u001b[0m     \u001b[38;5;241m*\u001b[39m\u001b[38;5;241m*\u001b[39mkwargs,\n\u001b[1;32m    478\u001b[0m ):\n\u001b[1;32m    479\u001b[0m \u001b[38;5;250m    \u001b[39m\u001b[38;5;124;03m\"\"\"\u001b[39;00m\n\u001b[1;32m    480\u001b[0m \u001b[38;5;124;03m    Creates an `HDUList` instance from a file-like object.\u001b[39;00m\n\u001b[1;32m    481\u001b[0m \n\u001b[0;32m   (...)\u001b[0m\n\u001b[1;32m    484\u001b[0m \u001b[38;5;124;03m    documentation for details of the parameters accepted by this method).\u001b[39;00m\n\u001b[1;32m    485\u001b[0m \u001b[38;5;124;03m    \"\"\"\u001b[39;00m\n\u001b[0;32m--> 486\u001b[0m     \u001b[38;5;28;01mreturn\u001b[39;00m \u001b[38;5;28mcls\u001b[39m\u001b[38;5;241m.\u001b[39m_readfrom(\n\u001b[1;32m    487\u001b[0m         fileobj\u001b[38;5;241m=\u001b[39mfileobj,\n\u001b[1;32m    488\u001b[0m         mode\u001b[38;5;241m=\u001b[39mmode,\n\u001b[1;32m    489\u001b[0m         memmap\u001b[38;5;241m=\u001b[39mmemmap,\n\u001b[1;32m    490\u001b[0m         save_backup\u001b[38;5;241m=\u001b[39msave_backup,\n\u001b[1;32m    491\u001b[0m         cache\u001b[38;5;241m=\u001b[39mcache,\n\u001b[1;32m    492\u001b[0m         ignore_missing_simple\u001b[38;5;241m=\u001b[39mignore_missing_simple,\n\u001b[1;32m    493\u001b[0m         lazy_load_hdus\u001b[38;5;241m=\u001b[39mlazy_load_hdus,\n\u001b[1;32m    494\u001b[0m         \u001b[38;5;241m*\u001b[39m\u001b[38;5;241m*\u001b[39mkwargs,\n\u001b[1;32m    495\u001b[0m     )\n",
      "File \u001b[0;32m~/anaconda3/envs/rte/lib/python3.11/site-packages/astropy/io/fits/hdu/hdulist.py:1157\u001b[0m, in \u001b[0;36mHDUList._readfrom\u001b[0;34m(cls, fileobj, data, mode, memmap, cache, lazy_load_hdus, ignore_missing_simple, use_fsspec, fsspec_kwargs, decompress_in_memory, **kwargs)\u001b[0m\n\u001b[1;32m   1154\u001b[0m \u001b[38;5;28;01mif\u001b[39;00m fileobj \u001b[38;5;129;01mis\u001b[39;00m \u001b[38;5;129;01mnot\u001b[39;00m \u001b[38;5;28;01mNone\u001b[39;00m:\n\u001b[1;32m   1155\u001b[0m     \u001b[38;5;28;01mif\u001b[39;00m \u001b[38;5;129;01mnot\u001b[39;00m \u001b[38;5;28misinstance\u001b[39m(fileobj, _File):\n\u001b[1;32m   1156\u001b[0m         \u001b[38;5;66;03m# instantiate a FITS file object (ffo)\u001b[39;00m\n\u001b[0;32m-> 1157\u001b[0m         fileobj \u001b[38;5;241m=\u001b[39m _File(\n\u001b[1;32m   1158\u001b[0m             fileobj,\n\u001b[1;32m   1159\u001b[0m             mode\u001b[38;5;241m=\u001b[39mmode,\n\u001b[1;32m   1160\u001b[0m             memmap\u001b[38;5;241m=\u001b[39mmemmap,\n\u001b[1;32m   1161\u001b[0m             cache\u001b[38;5;241m=\u001b[39mcache,\n\u001b[1;32m   1162\u001b[0m             use_fsspec\u001b[38;5;241m=\u001b[39muse_fsspec,\n\u001b[1;32m   1163\u001b[0m             fsspec_kwargs\u001b[38;5;241m=\u001b[39mfsspec_kwargs,\n\u001b[1;32m   1164\u001b[0m             decompress_in_memory\u001b[38;5;241m=\u001b[39mdecompress_in_memory,\n\u001b[1;32m   1165\u001b[0m         )\n\u001b[1;32m   1166\u001b[0m     \u001b[38;5;66;03m# The Astropy mode is determined by the _File initializer if the\u001b[39;00m\n\u001b[1;32m   1167\u001b[0m     \u001b[38;5;66;03m# supplied mode was None\u001b[39;00m\n\u001b[1;32m   1168\u001b[0m     mode \u001b[38;5;241m=\u001b[39m fileobj\u001b[38;5;241m.\u001b[39mmode\n",
      "File \u001b[0;32m~/anaconda3/envs/rte/lib/python3.11/site-packages/astropy/io/fits/file.py:218\u001b[0m, in \u001b[0;36m_File.__init__\u001b[0;34m(self, fileobj, mode, memmap, overwrite, cache, use_fsspec, fsspec_kwargs, decompress_in_memory)\u001b[0m\n\u001b[1;32m    216\u001b[0m     \u001b[38;5;28mself\u001b[39m\u001b[38;5;241m.\u001b[39m_open_fileobj(fileobj, mode, overwrite)\n\u001b[1;32m    217\u001b[0m \u001b[38;5;28;01melif\u001b[39;00m \u001b[38;5;28misinstance\u001b[39m(fileobj, (\u001b[38;5;28mstr\u001b[39m, \u001b[38;5;28mbytes\u001b[39m)):\n\u001b[0;32m--> 218\u001b[0m     \u001b[38;5;28mself\u001b[39m\u001b[38;5;241m.\u001b[39m_open_filename(fileobj, mode, overwrite)\n\u001b[1;32m    219\u001b[0m \u001b[38;5;28;01melse\u001b[39;00m:\n\u001b[1;32m    220\u001b[0m     \u001b[38;5;28mself\u001b[39m\u001b[38;5;241m.\u001b[39m_open_filelike(fileobj, mode, overwrite)\n",
      "File \u001b[0;32m~/anaconda3/envs/rte/lib/python3.11/site-packages/astropy/io/fits/file.py:634\u001b[0m, in \u001b[0;36m_File._open_filename\u001b[0;34m(self, filename, mode, overwrite)\u001b[0m\n\u001b[1;32m    632\u001b[0m \u001b[38;5;28;01mif\u001b[39;00m os\u001b[38;5;241m.\u001b[39mpath\u001b[38;5;241m.\u001b[39mexists(\u001b[38;5;28mself\u001b[39m\u001b[38;5;241m.\u001b[39mname):\n\u001b[1;32m    633\u001b[0m     \u001b[38;5;28;01mwith\u001b[39;00m \u001b[38;5;28mopen\u001b[39m(\u001b[38;5;28mself\u001b[39m\u001b[38;5;241m.\u001b[39mname, \u001b[38;5;124m\"\u001b[39m\u001b[38;5;124mrb\u001b[39m\u001b[38;5;124m\"\u001b[39m) \u001b[38;5;28;01mas\u001b[39;00m f:\n\u001b[0;32m--> 634\u001b[0m         magic \u001b[38;5;241m=\u001b[39m f\u001b[38;5;241m.\u001b[39mread(\u001b[38;5;241m4\u001b[39m)\n\u001b[1;32m    635\u001b[0m \u001b[38;5;28;01melse\u001b[39;00m:\n\u001b[1;32m    636\u001b[0m     magic \u001b[38;5;241m=\u001b[39m \u001b[38;5;124mb\u001b[39m\u001b[38;5;124m\"\u001b[39m\u001b[38;5;124m\"\u001b[39m\n",
      "\u001b[0;31mKeyboardInterrupt\u001b[0m: "
     ]
    }
   ],
   "source": [
    "for i, fname in enumerate(os.listdir('preprocessed/')):\n",
    "    flux = fits.getdata(f'preprocessed/{fname}', ext=0)\n",
    "    if np.isnan(np.min(flux)):\n",
    "        print(i, fname, np.min(flux), np.argmin(flux))"
   ]
  },
  {
   "cell_type": "code",
   "execution_count": 7,
   "metadata": {},
   "outputs": [],
   "source": [
    "for i, fname in enumerate(fnames):\n",
    "    try:\n",
    "        flux = fits.getdata(f'preprocessed/{fname}', ext=0)\n",
    "\n",
    "        if not np.isfinite(flux).all():\n",
    "            print(i, fname)\n",
    "    except FileNotFoundError as e:\n",
    "        pass\n",
    "        "
   ]
  },
  {
   "cell_type": "code",
   "execution_count": 8,
   "metadata": {},
   "outputs": [
    {
     "ename": "KeyboardInterrupt",
     "evalue": "",
     "output_type": "error",
     "traceback": [
      "\u001b[0;31m---------------------------------------------------------------------------\u001b[0m",
      "\u001b[0;31mKeyboardInterrupt\u001b[0m                         Traceback (most recent call last)",
      "Cell \u001b[0;32mIn[8], line 3\u001b[0m\n\u001b[1;32m      1\u001b[0m \u001b[38;5;28;01mfor\u001b[39;00m i, fname \u001b[38;5;129;01min\u001b[39;00m \u001b[38;5;28menumerate\u001b[39m(os\u001b[38;5;241m.\u001b[39mlistdir(\u001b[38;5;124m'\u001b[39m\u001b[38;5;124mpreprocessed/\u001b[39m\u001b[38;5;124m'\u001b[39m)):\n\u001b[1;32m      2\u001b[0m     \u001b[38;5;28;01mtry\u001b[39;00m:\n\u001b[0;32m----> 3\u001b[0m         flux \u001b[38;5;241m=\u001b[39m fits\u001b[38;5;241m.\u001b[39mgetdata(\u001b[38;5;124mf\u001b[39m\u001b[38;5;124m'\u001b[39m\u001b[38;5;124mremoved2/\u001b[39m\u001b[38;5;132;01m{\u001b[39;00mfname\u001b[38;5;132;01m}\u001b[39;00m\u001b[38;5;124m'\u001b[39m, ext\u001b[38;5;241m=\u001b[39m\u001b[38;5;241m0\u001b[39m)\n\u001b[1;32m      5\u001b[0m         \u001b[38;5;28;01mif\u001b[39;00m \u001b[38;5;129;01mnot\u001b[39;00m np\u001b[38;5;241m.\u001b[39misfinite(flux)\u001b[38;5;241m.\u001b[39mall():\n\u001b[1;32m      6\u001b[0m             \u001b[38;5;28mprint\u001b[39m(i, fname)\n",
      "File \u001b[0;32m~/anaconda3/envs/rte/lib/python3.11/site-packages/astropy/io/fits/convenience.py:220\u001b[0m, in \u001b[0;36mgetdata\u001b[0;34m(filename, header, lower, upper, view, *args, **kwargs)\u001b[0m\n\u001b[1;32m    215\u001b[0m extver \u001b[38;5;241m=\u001b[39m kwargs\u001b[38;5;241m.\u001b[39mget(\u001b[38;5;124m\"\u001b[39m\u001b[38;5;124mextver\u001b[39m\u001b[38;5;124m\"\u001b[39m)\n\u001b[1;32m    216\u001b[0m ext_given \u001b[38;5;241m=\u001b[39m \u001b[38;5;129;01mnot\u001b[39;00m (\n\u001b[1;32m    217\u001b[0m     \u001b[38;5;28mlen\u001b[39m(args) \u001b[38;5;241m==\u001b[39m \u001b[38;5;241m0\u001b[39m \u001b[38;5;129;01mand\u001b[39;00m ext \u001b[38;5;129;01mis\u001b[39;00m \u001b[38;5;28;01mNone\u001b[39;00m \u001b[38;5;129;01mand\u001b[39;00m extname \u001b[38;5;129;01mis\u001b[39;00m \u001b[38;5;28;01mNone\u001b[39;00m \u001b[38;5;129;01mand\u001b[39;00m extver \u001b[38;5;129;01mis\u001b[39;00m \u001b[38;5;28;01mNone\u001b[39;00m\n\u001b[1;32m    218\u001b[0m )\n\u001b[0;32m--> 220\u001b[0m hdulist, extidx \u001b[38;5;241m=\u001b[39m _getext(filename, mode, \u001b[38;5;241m*\u001b[39margs, \u001b[38;5;241m*\u001b[39m\u001b[38;5;241m*\u001b[39mkwargs)\n\u001b[1;32m    221\u001b[0m \u001b[38;5;28;01mtry\u001b[39;00m:\n\u001b[1;32m    222\u001b[0m     hdu \u001b[38;5;241m=\u001b[39m hdulist[extidx]\n",
      "File \u001b[0;32m~/anaconda3/envs/rte/lib/python3.11/site-packages/astropy/io/fits/convenience.py:1114\u001b[0m, in \u001b[0;36m_getext\u001b[0;34m(filename, mode, ext, extname, extver, *args, **kwargs)\u001b[0m\n\u001b[1;32m   1111\u001b[0m \u001b[38;5;28;01melif\u001b[39;00m extver \u001b[38;5;129;01mand\u001b[39;00m extname \u001b[38;5;129;01mis\u001b[39;00m \u001b[38;5;28;01mNone\u001b[39;00m:\n\u001b[1;32m   1112\u001b[0m     \u001b[38;5;28;01mraise\u001b[39;00m \u001b[38;5;167;01mTypeError\u001b[39;00m(\u001b[38;5;124m\"\u001b[39m\u001b[38;5;124mextver alone cannot specify an extension.\u001b[39m\u001b[38;5;124m\"\u001b[39m)\n\u001b[0;32m-> 1114\u001b[0m hdulist \u001b[38;5;241m=\u001b[39m fitsopen(filename, mode\u001b[38;5;241m=\u001b[39mmode, \u001b[38;5;241m*\u001b[39m\u001b[38;5;241m*\u001b[39mkwargs)\n\u001b[1;32m   1116\u001b[0m \u001b[38;5;28;01mreturn\u001b[39;00m hdulist, ext\n",
      "File \u001b[0;32m~/anaconda3/envs/rte/lib/python3.11/site-packages/astropy/io/fits/hdu/hdulist.py:222\u001b[0m, in \u001b[0;36mfitsopen\u001b[0;34m(name, mode, memmap, save_backup, cache, lazy_load_hdus, ignore_missing_simple, use_fsspec, fsspec_kwargs, decompress_in_memory, **kwargs)\u001b[0m\n\u001b[1;32m    219\u001b[0m \u001b[38;5;28;01mif\u001b[39;00m \u001b[38;5;129;01mnot\u001b[39;00m name:\n\u001b[1;32m    220\u001b[0m     \u001b[38;5;28;01mraise\u001b[39;00m \u001b[38;5;167;01mValueError\u001b[39;00m(\u001b[38;5;124mf\u001b[39m\u001b[38;5;124m\"\u001b[39m\u001b[38;5;124mEmpty filename: \u001b[39m\u001b[38;5;132;01m{\u001b[39;00mname\u001b[38;5;132;01m!r}\u001b[39;00m\u001b[38;5;124m\"\u001b[39m)\n\u001b[0;32m--> 222\u001b[0m \u001b[38;5;28;01mreturn\u001b[39;00m HDUList\u001b[38;5;241m.\u001b[39mfromfile(\n\u001b[1;32m    223\u001b[0m     name,\n\u001b[1;32m    224\u001b[0m     mode,\n\u001b[1;32m    225\u001b[0m     memmap,\n\u001b[1;32m    226\u001b[0m     save_backup,\n\u001b[1;32m    227\u001b[0m     cache,\n\u001b[1;32m    228\u001b[0m     lazy_load_hdus,\n\u001b[1;32m    229\u001b[0m     ignore_missing_simple,\n\u001b[1;32m    230\u001b[0m     use_fsspec\u001b[38;5;241m=\u001b[39muse_fsspec,\n\u001b[1;32m    231\u001b[0m     fsspec_kwargs\u001b[38;5;241m=\u001b[39mfsspec_kwargs,\n\u001b[1;32m    232\u001b[0m     decompress_in_memory\u001b[38;5;241m=\u001b[39mdecompress_in_memory,\n\u001b[1;32m    233\u001b[0m     \u001b[38;5;241m*\u001b[39m\u001b[38;5;241m*\u001b[39mkwargs,\n\u001b[1;32m    234\u001b[0m )\n",
      "File \u001b[0;32m~/anaconda3/envs/rte/lib/python3.11/site-packages/astropy/io/fits/hdu/hdulist.py:486\u001b[0m, in \u001b[0;36mHDUList.fromfile\u001b[0;34m(cls, fileobj, mode, memmap, save_backup, cache, lazy_load_hdus, ignore_missing_simple, **kwargs)\u001b[0m\n\u001b[1;32m    467\u001b[0m \u001b[38;5;129m@classmethod\u001b[39m\n\u001b[1;32m    468\u001b[0m \u001b[38;5;28;01mdef\u001b[39;00m \u001b[38;5;21mfromfile\u001b[39m(\n\u001b[1;32m    469\u001b[0m     \u001b[38;5;28mcls\u001b[39m,\n\u001b[0;32m   (...)\u001b[0m\n\u001b[1;32m    477\u001b[0m     \u001b[38;5;241m*\u001b[39m\u001b[38;5;241m*\u001b[39mkwargs,\n\u001b[1;32m    478\u001b[0m ):\n\u001b[1;32m    479\u001b[0m \u001b[38;5;250m    \u001b[39m\u001b[38;5;124;03m\"\"\"\u001b[39;00m\n\u001b[1;32m    480\u001b[0m \u001b[38;5;124;03m    Creates an `HDUList` instance from a file-like object.\u001b[39;00m\n\u001b[1;32m    481\u001b[0m \n\u001b[0;32m   (...)\u001b[0m\n\u001b[1;32m    484\u001b[0m \u001b[38;5;124;03m    documentation for details of the parameters accepted by this method).\u001b[39;00m\n\u001b[1;32m    485\u001b[0m \u001b[38;5;124;03m    \"\"\"\u001b[39;00m\n\u001b[0;32m--> 486\u001b[0m     \u001b[38;5;28;01mreturn\u001b[39;00m \u001b[38;5;28mcls\u001b[39m\u001b[38;5;241m.\u001b[39m_readfrom(\n\u001b[1;32m    487\u001b[0m         fileobj\u001b[38;5;241m=\u001b[39mfileobj,\n\u001b[1;32m    488\u001b[0m         mode\u001b[38;5;241m=\u001b[39mmode,\n\u001b[1;32m    489\u001b[0m         memmap\u001b[38;5;241m=\u001b[39mmemmap,\n\u001b[1;32m    490\u001b[0m         save_backup\u001b[38;5;241m=\u001b[39msave_backup,\n\u001b[1;32m    491\u001b[0m         cache\u001b[38;5;241m=\u001b[39mcache,\n\u001b[1;32m    492\u001b[0m         ignore_missing_simple\u001b[38;5;241m=\u001b[39mignore_missing_simple,\n\u001b[1;32m    493\u001b[0m         lazy_load_hdus\u001b[38;5;241m=\u001b[39mlazy_load_hdus,\n\u001b[1;32m    494\u001b[0m         \u001b[38;5;241m*\u001b[39m\u001b[38;5;241m*\u001b[39mkwargs,\n\u001b[1;32m    495\u001b[0m     )\n",
      "File \u001b[0;32m~/anaconda3/envs/rte/lib/python3.11/site-packages/astropy/io/fits/hdu/hdulist.py:1157\u001b[0m, in \u001b[0;36mHDUList._readfrom\u001b[0;34m(cls, fileobj, data, mode, memmap, cache, lazy_load_hdus, ignore_missing_simple, use_fsspec, fsspec_kwargs, decompress_in_memory, **kwargs)\u001b[0m\n\u001b[1;32m   1154\u001b[0m \u001b[38;5;28;01mif\u001b[39;00m fileobj \u001b[38;5;129;01mis\u001b[39;00m \u001b[38;5;129;01mnot\u001b[39;00m \u001b[38;5;28;01mNone\u001b[39;00m:\n\u001b[1;32m   1155\u001b[0m     \u001b[38;5;28;01mif\u001b[39;00m \u001b[38;5;129;01mnot\u001b[39;00m \u001b[38;5;28misinstance\u001b[39m(fileobj, _File):\n\u001b[1;32m   1156\u001b[0m         \u001b[38;5;66;03m# instantiate a FITS file object (ffo)\u001b[39;00m\n\u001b[0;32m-> 1157\u001b[0m         fileobj \u001b[38;5;241m=\u001b[39m _File(\n\u001b[1;32m   1158\u001b[0m             fileobj,\n\u001b[1;32m   1159\u001b[0m             mode\u001b[38;5;241m=\u001b[39mmode,\n\u001b[1;32m   1160\u001b[0m             memmap\u001b[38;5;241m=\u001b[39mmemmap,\n\u001b[1;32m   1161\u001b[0m             cache\u001b[38;5;241m=\u001b[39mcache,\n\u001b[1;32m   1162\u001b[0m             use_fsspec\u001b[38;5;241m=\u001b[39muse_fsspec,\n\u001b[1;32m   1163\u001b[0m             fsspec_kwargs\u001b[38;5;241m=\u001b[39mfsspec_kwargs,\n\u001b[1;32m   1164\u001b[0m             decompress_in_memory\u001b[38;5;241m=\u001b[39mdecompress_in_memory,\n\u001b[1;32m   1165\u001b[0m         )\n\u001b[1;32m   1166\u001b[0m     \u001b[38;5;66;03m# The Astropy mode is determined by the _File initializer if the\u001b[39;00m\n\u001b[1;32m   1167\u001b[0m     \u001b[38;5;66;03m# supplied mode was None\u001b[39;00m\n\u001b[1;32m   1168\u001b[0m     mode \u001b[38;5;241m=\u001b[39m fileobj\u001b[38;5;241m.\u001b[39mmode\n",
      "File \u001b[0;32m~/anaconda3/envs/rte/lib/python3.11/site-packages/astropy/io/fits/file.py:218\u001b[0m, in \u001b[0;36m_File.__init__\u001b[0;34m(self, fileobj, mode, memmap, overwrite, cache, use_fsspec, fsspec_kwargs, decompress_in_memory)\u001b[0m\n\u001b[1;32m    216\u001b[0m     \u001b[38;5;28mself\u001b[39m\u001b[38;5;241m.\u001b[39m_open_fileobj(fileobj, mode, overwrite)\n\u001b[1;32m    217\u001b[0m \u001b[38;5;28;01melif\u001b[39;00m \u001b[38;5;28misinstance\u001b[39m(fileobj, (\u001b[38;5;28mstr\u001b[39m, \u001b[38;5;28mbytes\u001b[39m)):\n\u001b[0;32m--> 218\u001b[0m     \u001b[38;5;28mself\u001b[39m\u001b[38;5;241m.\u001b[39m_open_filename(fileobj, mode, overwrite)\n\u001b[1;32m    219\u001b[0m \u001b[38;5;28;01melse\u001b[39;00m:\n\u001b[1;32m    220\u001b[0m     \u001b[38;5;28mself\u001b[39m\u001b[38;5;241m.\u001b[39m_open_filelike(fileobj, mode, overwrite)\n",
      "File \u001b[0;32m~/anaconda3/envs/rte/lib/python3.11/site-packages/astropy/io/fits/file.py:638\u001b[0m, in \u001b[0;36m_File._open_filename\u001b[0;34m(self, filename, mode, overwrite)\u001b[0m\n\u001b[1;32m    635\u001b[0m \u001b[38;5;28;01melse\u001b[39;00m:\n\u001b[1;32m    636\u001b[0m     magic \u001b[38;5;241m=\u001b[39m \u001b[38;5;124mb\u001b[39m\u001b[38;5;124m\"\u001b[39m\u001b[38;5;124m\"\u001b[39m\n\u001b[0;32m--> 638\u001b[0m ext \u001b[38;5;241m=\u001b[39m os\u001b[38;5;241m.\u001b[39mpath\u001b[38;5;241m.\u001b[39msplitext(\u001b[38;5;28mself\u001b[39m\u001b[38;5;241m.\u001b[39mname)[\u001b[38;5;241m1\u001b[39m]\n\u001b[1;32m    640\u001b[0m \u001b[38;5;28;01mif\u001b[39;00m \u001b[38;5;129;01mnot\u001b[39;00m \u001b[38;5;28mself\u001b[39m\u001b[38;5;241m.\u001b[39m_try_read_compressed(\u001b[38;5;28mself\u001b[39m\u001b[38;5;241m.\u001b[39mname, magic, mode, ext\u001b[38;5;241m=\u001b[39mext):\n\u001b[1;32m    641\u001b[0m     \u001b[38;5;28mself\u001b[39m\u001b[38;5;241m.\u001b[39m_file \u001b[38;5;241m=\u001b[39m \u001b[38;5;28mopen\u001b[39m(\u001b[38;5;28mself\u001b[39m\u001b[38;5;241m.\u001b[39mname, IO_FITS_MODES[mode])\n",
      "File \u001b[0;32m<frozen posixpath>:117\u001b[0m, in \u001b[0;36msplitext\u001b[0;34m(p)\u001b[0m\n",
      "\u001b[0;31mKeyboardInterrupt\u001b[0m: "
     ]
    }
   ],
   "source": [
    "for i, fname in enumerate(os.listdir('preprocessed/')):\n",
    "    try:\n",
    "        flux = fits.getdata(f'removed2/{fname}', ext=0)\n",
    "\n",
    "        if not np.isfinite(flux).all():\n",
    "            print(i, fname)\n",
    "    except FileNotFoundError as e:\n",
    "        pass\n"
   ]
  },
  {
   "cell_type": "code",
   "execution_count": 9,
   "metadata": {},
   "outputs": [
    {
     "ename": "KeyboardInterrupt",
     "evalue": "",
     "output_type": "error",
     "traceback": [
      "\u001b[0;31m---------------------------------------------------------------------------\u001b[0m",
      "\u001b[0;31mKeyboardInterrupt\u001b[0m                         Traceback (most recent call last)",
      "Cell \u001b[0;32mIn[9], line 3\u001b[0m\n\u001b[1;32m      1\u001b[0m \u001b[38;5;28;01mfor\u001b[39;00m i, fname \u001b[38;5;129;01min\u001b[39;00m \u001b[38;5;28menumerate\u001b[39m(os\u001b[38;5;241m.\u001b[39mlistdir(\u001b[38;5;124m'\u001b[39m\u001b[38;5;124mpreprocessed/\u001b[39m\u001b[38;5;124m'\u001b[39m)):\n\u001b[1;32m      2\u001b[0m     \u001b[38;5;28;01mtry\u001b[39;00m:\n\u001b[0;32m----> 3\u001b[0m         flux \u001b[38;5;241m=\u001b[39m fits\u001b[38;5;241m.\u001b[39mgetdata(\u001b[38;5;124mf\u001b[39m\u001b[38;5;124m'\u001b[39m\u001b[38;5;124mremoved/\u001b[39m\u001b[38;5;132;01m{\u001b[39;00mfname\u001b[38;5;132;01m}\u001b[39;00m\u001b[38;5;124m'\u001b[39m, ext\u001b[38;5;241m=\u001b[39m\u001b[38;5;241m0\u001b[39m)\n\u001b[1;32m      5\u001b[0m         \u001b[38;5;28;01mif\u001b[39;00m \u001b[38;5;129;01mnot\u001b[39;00m np\u001b[38;5;241m.\u001b[39misfinite(flux)\u001b[38;5;241m.\u001b[39mall():\n\u001b[1;32m      6\u001b[0m             \u001b[38;5;28mprint\u001b[39m(i, fname)\n",
      "File \u001b[0;32m~/anaconda3/envs/rte/lib/python3.11/site-packages/astropy/io/fits/convenience.py:220\u001b[0m, in \u001b[0;36mgetdata\u001b[0;34m(filename, header, lower, upper, view, *args, **kwargs)\u001b[0m\n\u001b[1;32m    215\u001b[0m extver \u001b[38;5;241m=\u001b[39m kwargs\u001b[38;5;241m.\u001b[39mget(\u001b[38;5;124m\"\u001b[39m\u001b[38;5;124mextver\u001b[39m\u001b[38;5;124m\"\u001b[39m)\n\u001b[1;32m    216\u001b[0m ext_given \u001b[38;5;241m=\u001b[39m \u001b[38;5;129;01mnot\u001b[39;00m (\n\u001b[1;32m    217\u001b[0m     \u001b[38;5;28mlen\u001b[39m(args) \u001b[38;5;241m==\u001b[39m \u001b[38;5;241m0\u001b[39m \u001b[38;5;129;01mand\u001b[39;00m ext \u001b[38;5;129;01mis\u001b[39;00m \u001b[38;5;28;01mNone\u001b[39;00m \u001b[38;5;129;01mand\u001b[39;00m extname \u001b[38;5;129;01mis\u001b[39;00m \u001b[38;5;28;01mNone\u001b[39;00m \u001b[38;5;129;01mand\u001b[39;00m extver \u001b[38;5;129;01mis\u001b[39;00m \u001b[38;5;28;01mNone\u001b[39;00m\n\u001b[1;32m    218\u001b[0m )\n\u001b[0;32m--> 220\u001b[0m hdulist, extidx \u001b[38;5;241m=\u001b[39m _getext(filename, mode, \u001b[38;5;241m*\u001b[39margs, \u001b[38;5;241m*\u001b[39m\u001b[38;5;241m*\u001b[39mkwargs)\n\u001b[1;32m    221\u001b[0m \u001b[38;5;28;01mtry\u001b[39;00m:\n\u001b[1;32m    222\u001b[0m     hdu \u001b[38;5;241m=\u001b[39m hdulist[extidx]\n",
      "File \u001b[0;32m~/anaconda3/envs/rte/lib/python3.11/site-packages/astropy/io/fits/convenience.py:1114\u001b[0m, in \u001b[0;36m_getext\u001b[0;34m(filename, mode, ext, extname, extver, *args, **kwargs)\u001b[0m\n\u001b[1;32m   1111\u001b[0m \u001b[38;5;28;01melif\u001b[39;00m extver \u001b[38;5;129;01mand\u001b[39;00m extname \u001b[38;5;129;01mis\u001b[39;00m \u001b[38;5;28;01mNone\u001b[39;00m:\n\u001b[1;32m   1112\u001b[0m     \u001b[38;5;28;01mraise\u001b[39;00m \u001b[38;5;167;01mTypeError\u001b[39;00m(\u001b[38;5;124m\"\u001b[39m\u001b[38;5;124mextver alone cannot specify an extension.\u001b[39m\u001b[38;5;124m\"\u001b[39m)\n\u001b[0;32m-> 1114\u001b[0m hdulist \u001b[38;5;241m=\u001b[39m fitsopen(filename, mode\u001b[38;5;241m=\u001b[39mmode, \u001b[38;5;241m*\u001b[39m\u001b[38;5;241m*\u001b[39mkwargs)\n\u001b[1;32m   1116\u001b[0m \u001b[38;5;28;01mreturn\u001b[39;00m hdulist, ext\n",
      "File \u001b[0;32m~/anaconda3/envs/rte/lib/python3.11/site-packages/astropy/io/fits/hdu/hdulist.py:222\u001b[0m, in \u001b[0;36mfitsopen\u001b[0;34m(name, mode, memmap, save_backup, cache, lazy_load_hdus, ignore_missing_simple, use_fsspec, fsspec_kwargs, decompress_in_memory, **kwargs)\u001b[0m\n\u001b[1;32m    219\u001b[0m \u001b[38;5;28;01mif\u001b[39;00m \u001b[38;5;129;01mnot\u001b[39;00m name:\n\u001b[1;32m    220\u001b[0m     \u001b[38;5;28;01mraise\u001b[39;00m \u001b[38;5;167;01mValueError\u001b[39;00m(\u001b[38;5;124mf\u001b[39m\u001b[38;5;124m\"\u001b[39m\u001b[38;5;124mEmpty filename: \u001b[39m\u001b[38;5;132;01m{\u001b[39;00mname\u001b[38;5;132;01m!r}\u001b[39;00m\u001b[38;5;124m\"\u001b[39m)\n\u001b[0;32m--> 222\u001b[0m \u001b[38;5;28;01mreturn\u001b[39;00m HDUList\u001b[38;5;241m.\u001b[39mfromfile(\n\u001b[1;32m    223\u001b[0m     name,\n\u001b[1;32m    224\u001b[0m     mode,\n\u001b[1;32m    225\u001b[0m     memmap,\n\u001b[1;32m    226\u001b[0m     save_backup,\n\u001b[1;32m    227\u001b[0m     cache,\n\u001b[1;32m    228\u001b[0m     lazy_load_hdus,\n\u001b[1;32m    229\u001b[0m     ignore_missing_simple,\n\u001b[1;32m    230\u001b[0m     use_fsspec\u001b[38;5;241m=\u001b[39muse_fsspec,\n\u001b[1;32m    231\u001b[0m     fsspec_kwargs\u001b[38;5;241m=\u001b[39mfsspec_kwargs,\n\u001b[1;32m    232\u001b[0m     decompress_in_memory\u001b[38;5;241m=\u001b[39mdecompress_in_memory,\n\u001b[1;32m    233\u001b[0m     \u001b[38;5;241m*\u001b[39m\u001b[38;5;241m*\u001b[39mkwargs,\n\u001b[1;32m    234\u001b[0m )\n",
      "File \u001b[0;32m~/anaconda3/envs/rte/lib/python3.11/site-packages/astropy/io/fits/hdu/hdulist.py:486\u001b[0m, in \u001b[0;36mHDUList.fromfile\u001b[0;34m(cls, fileobj, mode, memmap, save_backup, cache, lazy_load_hdus, ignore_missing_simple, **kwargs)\u001b[0m\n\u001b[1;32m    467\u001b[0m \u001b[38;5;129m@classmethod\u001b[39m\n\u001b[1;32m    468\u001b[0m \u001b[38;5;28;01mdef\u001b[39;00m \u001b[38;5;21mfromfile\u001b[39m(\n\u001b[1;32m    469\u001b[0m     \u001b[38;5;28mcls\u001b[39m,\n\u001b[0;32m   (...)\u001b[0m\n\u001b[1;32m    477\u001b[0m     \u001b[38;5;241m*\u001b[39m\u001b[38;5;241m*\u001b[39mkwargs,\n\u001b[1;32m    478\u001b[0m ):\n\u001b[1;32m    479\u001b[0m \u001b[38;5;250m    \u001b[39m\u001b[38;5;124;03m\"\"\"\u001b[39;00m\n\u001b[1;32m    480\u001b[0m \u001b[38;5;124;03m    Creates an `HDUList` instance from a file-like object.\u001b[39;00m\n\u001b[1;32m    481\u001b[0m \n\u001b[0;32m   (...)\u001b[0m\n\u001b[1;32m    484\u001b[0m \u001b[38;5;124;03m    documentation for details of the parameters accepted by this method).\u001b[39;00m\n\u001b[1;32m    485\u001b[0m \u001b[38;5;124;03m    \"\"\"\u001b[39;00m\n\u001b[0;32m--> 486\u001b[0m     \u001b[38;5;28;01mreturn\u001b[39;00m \u001b[38;5;28mcls\u001b[39m\u001b[38;5;241m.\u001b[39m_readfrom(\n\u001b[1;32m    487\u001b[0m         fileobj\u001b[38;5;241m=\u001b[39mfileobj,\n\u001b[1;32m    488\u001b[0m         mode\u001b[38;5;241m=\u001b[39mmode,\n\u001b[1;32m    489\u001b[0m         memmap\u001b[38;5;241m=\u001b[39mmemmap,\n\u001b[1;32m    490\u001b[0m         save_backup\u001b[38;5;241m=\u001b[39msave_backup,\n\u001b[1;32m    491\u001b[0m         cache\u001b[38;5;241m=\u001b[39mcache,\n\u001b[1;32m    492\u001b[0m         ignore_missing_simple\u001b[38;5;241m=\u001b[39mignore_missing_simple,\n\u001b[1;32m    493\u001b[0m         lazy_load_hdus\u001b[38;5;241m=\u001b[39mlazy_load_hdus,\n\u001b[1;32m    494\u001b[0m         \u001b[38;5;241m*\u001b[39m\u001b[38;5;241m*\u001b[39mkwargs,\n\u001b[1;32m    495\u001b[0m     )\n",
      "File \u001b[0;32m~/anaconda3/envs/rte/lib/python3.11/site-packages/astropy/io/fits/hdu/hdulist.py:1157\u001b[0m, in \u001b[0;36mHDUList._readfrom\u001b[0;34m(cls, fileobj, data, mode, memmap, cache, lazy_load_hdus, ignore_missing_simple, use_fsspec, fsspec_kwargs, decompress_in_memory, **kwargs)\u001b[0m\n\u001b[1;32m   1154\u001b[0m \u001b[38;5;28;01mif\u001b[39;00m fileobj \u001b[38;5;129;01mis\u001b[39;00m \u001b[38;5;129;01mnot\u001b[39;00m \u001b[38;5;28;01mNone\u001b[39;00m:\n\u001b[1;32m   1155\u001b[0m     \u001b[38;5;28;01mif\u001b[39;00m \u001b[38;5;129;01mnot\u001b[39;00m \u001b[38;5;28misinstance\u001b[39m(fileobj, _File):\n\u001b[1;32m   1156\u001b[0m         \u001b[38;5;66;03m# instantiate a FITS file object (ffo)\u001b[39;00m\n\u001b[0;32m-> 1157\u001b[0m         fileobj \u001b[38;5;241m=\u001b[39m _File(\n\u001b[1;32m   1158\u001b[0m             fileobj,\n\u001b[1;32m   1159\u001b[0m             mode\u001b[38;5;241m=\u001b[39mmode,\n\u001b[1;32m   1160\u001b[0m             memmap\u001b[38;5;241m=\u001b[39mmemmap,\n\u001b[1;32m   1161\u001b[0m             cache\u001b[38;5;241m=\u001b[39mcache,\n\u001b[1;32m   1162\u001b[0m             use_fsspec\u001b[38;5;241m=\u001b[39muse_fsspec,\n\u001b[1;32m   1163\u001b[0m             fsspec_kwargs\u001b[38;5;241m=\u001b[39mfsspec_kwargs,\n\u001b[1;32m   1164\u001b[0m             decompress_in_memory\u001b[38;5;241m=\u001b[39mdecompress_in_memory,\n\u001b[1;32m   1165\u001b[0m         )\n\u001b[1;32m   1166\u001b[0m     \u001b[38;5;66;03m# The Astropy mode is determined by the _File initializer if the\u001b[39;00m\n\u001b[1;32m   1167\u001b[0m     \u001b[38;5;66;03m# supplied mode was None\u001b[39;00m\n\u001b[1;32m   1168\u001b[0m     mode \u001b[38;5;241m=\u001b[39m fileobj\u001b[38;5;241m.\u001b[39mmode\n",
      "File \u001b[0;32m~/anaconda3/envs/rte/lib/python3.11/site-packages/astropy/io/fits/file.py:218\u001b[0m, in \u001b[0;36m_File.__init__\u001b[0;34m(self, fileobj, mode, memmap, overwrite, cache, use_fsspec, fsspec_kwargs, decompress_in_memory)\u001b[0m\n\u001b[1;32m    216\u001b[0m     \u001b[38;5;28mself\u001b[39m\u001b[38;5;241m.\u001b[39m_open_fileobj(fileobj, mode, overwrite)\n\u001b[1;32m    217\u001b[0m \u001b[38;5;28;01melif\u001b[39;00m \u001b[38;5;28misinstance\u001b[39m(fileobj, (\u001b[38;5;28mstr\u001b[39m, \u001b[38;5;28mbytes\u001b[39m)):\n\u001b[0;32m--> 218\u001b[0m     \u001b[38;5;28mself\u001b[39m\u001b[38;5;241m.\u001b[39m_open_filename(fileobj, mode, overwrite)\n\u001b[1;32m    219\u001b[0m \u001b[38;5;28;01melse\u001b[39;00m:\n\u001b[1;32m    220\u001b[0m     \u001b[38;5;28mself\u001b[39m\u001b[38;5;241m.\u001b[39m_open_filelike(fileobj, mode, overwrite)\n",
      "File \u001b[0;32m~/anaconda3/envs/rte/lib/python3.11/site-packages/astropy/io/fits/file.py:638\u001b[0m, in \u001b[0;36m_File._open_filename\u001b[0;34m(self, filename, mode, overwrite)\u001b[0m\n\u001b[1;32m    635\u001b[0m \u001b[38;5;28;01melse\u001b[39;00m:\n\u001b[1;32m    636\u001b[0m     magic \u001b[38;5;241m=\u001b[39m \u001b[38;5;124mb\u001b[39m\u001b[38;5;124m\"\u001b[39m\u001b[38;5;124m\"\u001b[39m\n\u001b[0;32m--> 638\u001b[0m ext \u001b[38;5;241m=\u001b[39m os\u001b[38;5;241m.\u001b[39mpath\u001b[38;5;241m.\u001b[39msplitext(\u001b[38;5;28mself\u001b[39m\u001b[38;5;241m.\u001b[39mname)[\u001b[38;5;241m1\u001b[39m]\n\u001b[1;32m    640\u001b[0m \u001b[38;5;28;01mif\u001b[39;00m \u001b[38;5;129;01mnot\u001b[39;00m \u001b[38;5;28mself\u001b[39m\u001b[38;5;241m.\u001b[39m_try_read_compressed(\u001b[38;5;28mself\u001b[39m\u001b[38;5;241m.\u001b[39mname, magic, mode, ext\u001b[38;5;241m=\u001b[39mext):\n\u001b[1;32m    641\u001b[0m     \u001b[38;5;28mself\u001b[39m\u001b[38;5;241m.\u001b[39m_file \u001b[38;5;241m=\u001b[39m \u001b[38;5;28mopen\u001b[39m(\u001b[38;5;28mself\u001b[39m\u001b[38;5;241m.\u001b[39mname, IO_FITS_MODES[mode])\n",
      "File \u001b[0;32m<frozen posixpath>:117\u001b[0m, in \u001b[0;36msplitext\u001b[0;34m(p)\u001b[0m\n",
      "\u001b[0;31mKeyboardInterrupt\u001b[0m: "
     ]
    }
   ],
   "source": [
    "for i, fname in enumerate(os.listdir('preprocessed/')):\n",
    "    if i % 1000 == 0:\n",
    "        print(i)\n",
    "    try:\n",
    "        flux = fits.getdata(f'removed/{fname}', ext=0)\n",
    "\n",
    "        if not np.isfinite(flux).all():\n",
    "            print(i, fname)\n",
    "    except FileNotFoundError as e:\n",
    "        pass\n"
   ]
  },
  {
   "cell_type": "code",
   "execution_count": null,
   "metadata": {},
   "outputs": [],
   "source": []
  }
 ],
 "metadata": {
  "kernelspec": {
   "display_name": "rte",
   "language": "python",
   "name": "python3"
  },
  "language_info": {
   "codemirror_mode": {
    "name": "ipython",
    "version": 3
   },
   "file_extension": ".py",
   "mimetype": "text/x-python",
   "name": "python",
   "nbconvert_exporter": "python",
   "pygments_lexer": "ipython3",
   "version": "3.11.8"
  }
 },
 "nbformat": 4,
 "nbformat_minor": 2
}
